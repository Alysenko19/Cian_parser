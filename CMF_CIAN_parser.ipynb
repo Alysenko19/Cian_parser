{
 "cells": [
  {
   "cell_type": "markdown",
   "metadata": {},
   "source": [
    "# CIAN.ru"
   ]
  },
  {
   "cell_type": "code",
   "execution_count": 1,
   "metadata": {
    "collapsed": true
   },
   "outputs": [],
   "source": [
    "import requests\n",
    "import re\n",
    "from bs4 import BeautifulSoup\n",
    "import pandas as pd\n",
    "import time\n",
    "import math\n",
    "\n",
    "cy = math.radians(37.62209300000001)\n",
    "cx = math.radians(55.75399399999374)"
   ]
  },
  {
   "cell_type": "code",
   "execution_count": 2,
   "metadata": {
    "collapsed": true
   },
   "outputs": [],
   "source": [
    "def html_stripper(text):\n",
    "    return re.sub('<[^<]+?>', '', str(text))"
   ]
  },
  {
   "cell_type": "code",
   "execution_count": 3,
   "metadata": {
    "collapsed": true
   },
   "outputs": [],
   "source": [
    "def n_stripper(text):\n",
    "    return re.sub('\\n', '', str(text))"
   ]
  },
  {
   "cell_type": "code",
   "execution_count": 4,
   "metadata": {
    "collapsed": true
   },
   "outputs": [],
   "source": [
    "def _stripper(text):\n",
    "    return re.sub(' ', '', str(text))"
   ]
  },
  {
   "cell_type": "code",
   "execution_count": 5,
   "metadata": {
    "collapsed": true
   },
   "outputs": [],
   "source": [
    "page = 1"
   ]
  },
  {
   "cell_type": "markdown",
   "metadata": {},
   "source": [
    "### Для ЦАО находим главную ссылку и в ней находим **&p=1&**, это и есть переход по страницам"
   ]
  },
  {
   "cell_type": "code",
   "execution_count": 6,
   "metadata": {
    "collapsed": false
   },
   "outputs": [],
   "source": [
    "district = 'http://www.cian.ru/cat.php?deal_type=sale&district%5B0%5D=13&district%5B1%5D=14&district%5B2%5D=15&district%5B3%5D=16&district%5B4%5D=17&district%5B5%5D=18&district%5B6%5D=19&district%5B7%5D=20&district%5B8%5D=21&district%5B9%5D=22&engine_version=2&offer_type=flat&p={}&room1=1&room2=1&room3=1&room4=1&room5=1&room6=1'"
   ]
  },
  {
   "cell_type": "code",
   "execution_count": 7,
   "metadata": {
    "collapsed": false
   },
   "outputs": [],
   "source": [
    "district2 = 'http://www.cian.ru/cat.php?deal_type=sale&district%5B0%5D=152&district%5B1%5D=153&district%5B2%5D=154&district%5B3%5D=355&district%5B4%5D=356&district%5B5%5D=357&district%5B6%5D=358&engine_version=2&offer_type=flat&p={}&room1=1&room2=1&room3=1&room4=1&room5=1&room6=1'"
   ]
  },
  {
   "cell_type": "markdown",
   "metadata": {},
   "source": [
    "### Гуляем по страницам и качаем с них все ссылки на наши квартирки"
   ]
  },
  {
   "cell_type": "code",
   "execution_count": 8,
   "metadata": {
    "collapsed": false
   },
   "outputs": [],
   "source": [
    "links = []\n",
    "for page in range(1, 30):\n",
    "    page_url =  district2.format(page)\n",
    "\n",
    "    search_page = requests.get(page_url)\n",
    "    search_page = search_page.content\n",
    "    search_page = BeautifulSoup(search_page, 'lxml')\n",
    "\n",
    "    flat_urls = search_page.findAll('div', attrs = {'ng-class':\"{'serp-item_removed': offer.remove.state, 'serp-item_popup-opened': isPopupOpen}\"})\n",
    "    flat_urls = re.split('http://www.cian.ru/sale/flat/|/\" ng-class=\"', str(flat_urls))\n",
    "    if(flat_urls[1] in links): break\n",
    "    for link in flat_urls:\n",
    "        if link.isdigit():\n",
    "            links.append(link)"
   ]
  },
  {
   "cell_type": "code",
   "execution_count": 9,
   "metadata": {
    "collapsed": false
   },
   "outputs": [
    {
     "data": {
      "text/plain": [
       "'148505839'"
      ]
     },
     "execution_count": 9,
     "metadata": {},
     "output_type": "execute_result"
    }
   ],
   "source": [
    "page = 20\n",
    "flat_urls = search_page.findAll('div', attrs = {'ng-class':\"{'serp-item_removed': offer.remove.state, 'serp-item_popup-opened': isPopupOpen}\"})\n",
    "flat_urls = re.split('http://www.cian.ru/sale/flat/|/\" ng-class=\"', str(flat_urls))\n",
    "flat_urls[4]"
   ]
  },
  {
   "cell_type": "code",
   "execution_count": 10,
   "metadata": {
    "collapsed": false
   },
   "outputs": [
    {
     "data": {
      "text/plain": [
       "3"
      ]
     },
     "execution_count": 10,
     "metadata": {},
     "output_type": "execute_result"
    }
   ],
   "source": [
    "len(links)"
   ]
  },
  {
   "cell_type": "markdown",
   "metadata": {},
   "source": [
    "Итого вытащили 812 квартирок по ЦАО"
   ]
  },
  {
   "cell_type": "markdown",
   "metadata": {},
   "source": [
    "### Попробуем перейти на первую"
   ]
  },
  {
   "cell_type": "code",
   "execution_count": 32,
   "metadata": {
    "collapsed": false
   },
   "outputs": [],
   "source": [
    "extra_link = 150804242\n",
    "flat_url = 'http://www.cian.ru/sale/flat/' + str(extra_link) + '/'\n",
    "#flat_url = 'http://www.cian.ru/sale/flat/150531912/' \n",
    "flat_page = requests.get(flat_url)\n",
    "flat_page = flat_page.content\n",
    "flat_page = BeautifulSoup(flat_page, 'lxml')"
   ]
  },
  {
   "cell_type": "code",
   "execution_count": 33,
   "metadata": {
    "collapsed": false
   },
   "outputs": [],
   "source": [
    "flatStats = {'District':0}"
   ]
  },
  {
   "cell_type": "markdown",
   "metadata": {},
   "source": [
    "# Цена"
   ]
  },
  {
   "cell_type": "code",
   "execution_count": 7,
   "metadata": {
    "collapsed": false
   },
   "outputs": [],
   "source": [
    "price = flat_page.find('div', attrs={'class':'object_descr_price'})\n",
    "price = re.split('<div>|за м<sup>2</sup>|\\n|руб|\\W', str(price))"
   ]
  },
  {
   "cell_type": "code",
   "execution_count": 8,
   "metadata": {
    "collapsed": false
   },
   "outputs": [
    {
     "name": "stdout",
     "output_type": "stream",
     "text": [
      "['', 'div', 'class', '', 'object_descr_price', '', '', '', '', '', '', '', '', '', '', '', '', '', '', '', '', '', '', '', '', '', '', '', '', '', '', '', '', '', '', '', '', '', '6', '900', '000', '', '', '', '', '', '', '', '', '', '', '', '', '', '', '', '', '', '', '', '', '', '', '', '', '', '', '', '', '', '', '', '', '', '', '', '', '', '', '', '', '', '', '', '', '', '', '', '', '', '', '', '', '', '', '', 'div', '']\n"
     ]
    }
   ],
   "source": [
    "print(price)"
   ]
  },
  {
   "cell_type": "code",
   "execution_count": 9,
   "metadata": {
    "collapsed": false
   },
   "outputs": [
    {
     "data": {
      "text/plain": [
       "['6', '900', '000']"
      ]
     },
     "execution_count": 9,
     "metadata": {},
     "output_type": "execute_result"
    }
   ],
   "source": [
    "[i for i in price if i.isdigit()][-3:]"
   ]
  },
  {
   "cell_type": "code",
   "execution_count": 10,
   "metadata": {
    "collapsed": false
   },
   "outputs": [
    {
     "data": {
      "text/plain": [
       "'6900000'"
      ]
     },
     "execution_count": 10,
     "metadata": {},
     "output_type": "execute_result"
    }
   ],
   "source": [
    "\"\".join([i for i in price if i.isdigit()][-3:])"
   ]
  },
  {
   "cell_type": "code",
   "execution_count": 11,
   "metadata": {
    "collapsed": true
   },
   "outputs": [],
   "source": [
    "price = \"\".join([i for i in price if i.isdigit()][-3:])"
   ]
  },
  {
   "cell_type": "code",
   "execution_count": 12,
   "metadata": {
    "collapsed": true
   },
   "outputs": [],
   "source": [
    "def getPrice(flat_page):\n",
    "    price = flat_page.find('div', attrs={'class':'object_descr_price'})\n",
    "    price = re.split('<div>|руб|\\W', str(price))\n",
    "    price = \"\".join([i for i in price if i.isdigit()][-3:])\n",
    "    return int(price)"
   ]
  },
  {
   "cell_type": "code",
   "execution_count": 13,
   "metadata": {
    "collapsed": false
   },
   "outputs": [
    {
     "data": {
      "text/plain": [
       "6900000"
      ]
     },
     "execution_count": 13,
     "metadata": {},
     "output_type": "execute_result"
    }
   ],
   "source": [
    "getPrice(flat_page)"
   ]
  },
  {
   "cell_type": "code",
   "execution_count": 49,
   "metadata": {
    "collapsed": true
   },
   "outputs": [],
   "source": [
    "flatStats['Price'] = getPrice(flat_page)"
   ]
  },
  {
   "cell_type": "markdown",
   "metadata": {},
   "source": [
    "# Координаты"
   ]
  },
  {
   "cell_type": "code",
   "execution_count": 13,
   "metadata": {
    "collapsed": false
   },
   "outputs": [
    {
     "data": {
      "text/plain": [
       "<a href=\"http://map.cian.ru/?deal_type=2&amp;flats=yes&amp;center=55.738292%2C37.676062&amp;room0=1&amp;room1=1&amp;room2=1\" rel=\"nofollow\" target=\"_blank\"><i></i>\\u041f\\u043e\\u0441\\u043c\\u043e\\u0442\\u0440\\u0435\\u0442\\u044c \\u043f\\u0440\\u0435\\u0434\\u043b\\u043e\\u0436\\u0435\\u043d\\u0438\\u044f \\u0440\\u044f\\u0434\\u043e\\u043c</a>"
      ]
     },
     "execution_count": 13,
     "metadata": {},
     "output_type": "execute_result"
    }
   ],
   "source": [
    "flat_page.find('div', attrs={'class':'map_info_button_extend'}).contents[1]"
   ]
  },
  {
   "cell_type": "code",
   "execution_count": 14,
   "metadata": {
    "collapsed": false
   },
   "outputs": [],
   "source": [
    "coords = flat_page.find('div', attrs={'class':'map_info_button_extend'}).contents[1]\n",
    "coords = re.split('&amp|center=|%2C', str(coords))\n",
    "coords_list = []\n",
    "for item in coords:\n",
    "    if item[0].isdigit():\n",
    "        coords_list.append(item)\n",
    "lat = float(coords_list[0])\n",
    "lon = float(coords_list[1])"
   ]
  },
  {
   "cell_type": "code",
   "execution_count": 15,
   "metadata": {
    "collapsed": false
   },
   "outputs": [
    {
     "data": {
      "text/plain": [
       "(55.738292, 37.676062)"
      ]
     },
     "execution_count": 15,
     "metadata": {},
     "output_type": "execute_result"
    }
   ],
   "source": [
    "lat, lon"
   ]
  },
  {
   "cell_type": "code",
   "execution_count": 16,
   "metadata": {
    "collapsed": true
   },
   "outputs": [],
   "source": [
    "def getCoords(flat_page):\n",
    "    coords = flat_page.find('div', attrs={'class':'map_info_button_extend'}).contents[1]\n",
    "    coords = re.split('&amp|center=|%2C', str(coords))\n",
    "    coords_list = []\n",
    "    for item in coords:\n",
    "        if item[0].isdigit():\n",
    "            coords_list.append(item)\n",
    "    lat = float(coords_list[0])\n",
    "    lon = float(coords_list[1])\n",
    "    x = math.radians(lat) #широта\n",
    "    y = math.radians(lon) #долгота\n",
    "    distance=6371*math.acos(math.sin(cy)*math.sin(y)+math.cos(cy)*math.cos(y)*math.cos(cx-x))# км\n",
    "    return lat, lon, distance"
   ]
  },
  {
   "cell_type": "code",
   "execution_count": 17,
   "metadata": {
    "collapsed": false
   },
   "outputs": [
    {
     "data": {
      "text/plain": [
       "(55.738292, 37.676062, 6.1582472324537845)"
      ]
     },
     "execution_count": 17,
     "metadata": {},
     "output_type": "execute_result"
    }
   ],
   "source": [
    "getCoords(flat_page) #широта долгота"
   ]
  },
  {
   "cell_type": "code",
   "execution_count": 18,
   "metadata": {
    "collapsed": true
   },
   "outputs": [],
   "source": [
    "flatStats['lat'], flatStats['lon'],flatStats['dist'] = getCoords(flat_page)"
   ]
  },
  {
   "cell_type": "code",
   "execution_count": 19,
   "metadata": {
    "collapsed": false
   },
   "outputs": [
    {
     "data": {
      "text/plain": [
       "4.6829111655262725"
      ]
     },
     "execution_count": 19,
     "metadata": {},
     "output_type": "execute_result"
    }
   ],
   "source": [
    "#Центр Москвы\n",
    "# 55.75399399999374,37.62209300000001\n",
    "\n",
    "y = math.radians(37.580652) #долгота\n",
    "\n",
    "x = math.radians(55.744526) #широта\n",
    "\n",
    "distance=6371*math.acos(math.sin(cy)*math.sin(y)+math.cos(cy)*math.cos(y)*math.cos(cx-x));\n",
    "#$cy и $y - \"широты\" точек, $cx и $x - \"долготы\"\n",
    "distance"
   ]
  },
  {
   "cell_type": "markdown",
   "metadata": {},
   "source": [
    "# Число комнат"
   ]
  },
  {
   "cell_type": "code",
   "execution_count": 20,
   "metadata": {
    "collapsed": true
   },
   "outputs": [],
   "source": [
    "rooms = flat_page.find('div', attrs={'class':'object_descr_title'})"
   ]
  },
  {
   "cell_type": "code",
   "execution_count": 21,
   "metadata": {
    "collapsed": false
   },
   "outputs": [
    {
     "data": {
      "text/plain": [
       "<div class=\"object_descr_title\" itemprop=\"name\">\\n                \\n    \\n        2-\\u043a\\u043e\\u043c\\u043d. \\u043a\\u0432.\\xa0\\n    \\n\\n                \\n                    \\n                \\n                </div>"
      ]
     },
     "execution_count": 21,
     "metadata": {},
     "output_type": "execute_result"
    }
   ],
   "source": [
    "rooms"
   ]
  },
  {
   "cell_type": "code",
   "execution_count": 22,
   "metadata": {
    "collapsed": false
   },
   "outputs": [],
   "source": [
    "rooms = html_stripper(rooms)"
   ]
  },
  {
   "cell_type": "code",
   "execution_count": 23,
   "metadata": {
    "collapsed": false
   },
   "outputs": [
    {
     "name": "stdout",
     "output_type": "stream",
     "text": [
      "\n",
      "                \n",
      "    \n",
      "        2-комн. кв. \n",
      "    \n",
      "\n",
      "                \n",
      "                    \n",
      "                \n",
      "                \n"
     ]
    }
   ],
   "source": [
    "print rooms"
   ]
  },
  {
   "cell_type": "code",
   "execution_count": 24,
   "metadata": {
    "collapsed": false
   },
   "outputs": [],
   "source": [
    "room_number = ''\n",
    "for i in re.split('-|\\n', rooms):\n",
    "    if 'комн' in i:\n",
    "        break\n",
    "    else:\n",
    "        room_number += i\n",
    "room_number = \"\".join(room_number.split())"
   ]
  },
  {
   "cell_type": "code",
   "execution_count": 25,
   "metadata": {
    "collapsed": false
   },
   "outputs": [
    {
     "data": {
      "text/plain": [
       "'2'"
      ]
     },
     "execution_count": 25,
     "metadata": {},
     "output_type": "execute_result"
    }
   ],
   "source": [
    "room_number"
   ]
  },
  {
   "cell_type": "code",
   "execution_count": 26,
   "metadata": {
    "collapsed": true
   },
   "outputs": [],
   "source": [
    "def getRoom(flat_page):\n",
    "    rooms = flat_page.find('div', attrs={'class':'object_descr_title'})\n",
    "    rooms = html_stripper(rooms)\n",
    "    room_number = ''\n",
    "    for i in re.split('-|\\n', rooms):\n",
    "        if 'комн' in i:\n",
    "            break\n",
    "        else:\n",
    "            room_number += i\n",
    "    room_number = \"\".join(room_number.split())\n",
    "    return room_number"
   ]
  },
  {
   "cell_type": "code",
   "execution_count": 27,
   "metadata": {
    "collapsed": false
   },
   "outputs": [
    {
     "data": {
      "text/plain": [
       "'2'"
      ]
     },
     "execution_count": 27,
     "metadata": {},
     "output_type": "execute_result"
    }
   ],
   "source": [
    "getRoom(flat_page)"
   ]
  },
  {
   "cell_type": "code",
   "execution_count": 28,
   "metadata": {
    "collapsed": true
   },
   "outputs": [],
   "source": [
    "flatStats['rooms'] = getRoom(flat_page)"
   ]
  },
  {
   "cell_type": "markdown",
   "metadata": {},
   "source": [
    "# Метро"
   ]
  },
  {
   "cell_type": "code",
   "execution_count": 34,
   "metadata": {
    "collapsed": false
   },
   "outputs": [
    {
     "data": {
      "text/plain": [
       "True"
      ]
     },
     "execution_count": 34,
     "metadata": {},
     "output_type": "execute_result"
    }
   ],
   "source": [
    "metro = flat_page.find('div', attrs={'class':'object_descr_metro'})\n",
    "metro = html_stripper(metro)\n",
    "metro = n_stripper(metro)\n",
    "metro != ''"
   ]
  },
  {
   "cell_type": "code",
   "execution_count": 35,
   "metadata": {
    "collapsed": false
   },
   "outputs": [
    {
     "name": "stdout",
     "output_type": "stream",
     "text": [
      "Румянцево,Юго-Западная,\n"
     ]
    }
   ],
   "source": [
    "metro = flat_page.find('div', attrs={'class':'object_descr_metro'})\n",
    "metro = html_stripper(metro)\n",
    "metro = n_stripper(metro)\n",
    "print _stripper(metro)"
   ]
  },
  {
   "cell_type": "code",
   "execution_count": 40,
   "metadata": {
    "collapsed": false
   },
   "outputs": [
    {
     "name": "stdout",
     "output_type": "stream",
     "text": [
      "None\n"
     ]
    }
   ],
   "source": [
    "metro_time = _stripper(re.split(',|мин[.]', metro)[1])\n",
    "if(metro_time.isdigit()):\n",
    "    print metro_time\n",
    "else:\n",
    "    print None"
   ]
  },
  {
   "cell_type": "code",
   "execution_count": 28,
   "metadata": {
    "collapsed": false
   },
   "outputs": [
    {
     "data": {
      "text/plain": [
       "['\\xd0\\x9a\\xd1\\x83\\xd0\\xb7\\xd1\\x8c\\xd0\\xbc\\xd0\\xb8\\xd0\\xbd\\xd0\\xba\\xd0\\xb8',\n",
       " '                7                ',\n",
       " '                                    \\xd0\\xbf\\xd0\\xb5\\xd1\\x88\\xd0\\xba\\xd0\\xbe\\xd0\\xbc                            ']"
      ]
     },
     "execution_count": 28,
     "metadata": {},
     "output_type": "execute_result"
    }
   ],
   "source": [
    "re.split(',|мин[.]', metro)"
   ]
  },
  {
   "cell_type": "code",
   "execution_count": 32,
   "metadata": {
    "collapsed": false
   },
   "outputs": [
    {
     "name": "stdout",
     "output_type": "stream",
     "text": [
      "Таганская\n"
     ]
    }
   ],
   "source": [
    "metro_station = re.split(',|мин[.]', metro)[0]\n",
    "print metro_station"
   ]
  },
  {
   "cell_type": "code",
   "execution_count": 33,
   "metadata": {
    "collapsed": false
   },
   "outputs": [
    {
     "ename": "IndexError",
     "evalue": "list index out of range",
     "output_type": "error",
     "traceback": [
      "\u001b[1;31m---------------------------------------------------------------------------\u001b[0m",
      "\u001b[1;31mIndexError\u001b[0m                                Traceback (most recent call last)",
      "\u001b[1;32m<ipython-input-33-c47b72b61ff1>\u001b[0m in \u001b[0;36m<module>\u001b[1;34m()\u001b[0m\n\u001b[1;32m----> 1\u001b[1;33m \u001b[1;32mif\u001b[0m\u001b[1;33m(\u001b[0m \u001b[0m_stripper\u001b[0m\u001b[1;33m(\u001b[0m\u001b[0mre\u001b[0m\u001b[1;33m.\u001b[0m\u001b[0msplit\u001b[0m\u001b[1;33m(\u001b[0m\u001b[1;34m',|мин.'\u001b[0m\u001b[1;33m,\u001b[0m \u001b[0mmetro\u001b[0m\u001b[1;33m)\u001b[0m\u001b[1;33m[\u001b[0m\u001b[1;36m2\u001b[0m\u001b[1;33m]\u001b[0m\u001b[1;33m)\u001b[0m\u001b[1;33m==\u001b[0m\u001b[1;34m'пешком'\u001b[0m\u001b[1;33m)\u001b[0m\u001b[1;33m:\u001b[0m\u001b[1;33m\u001b[0m\u001b[0m\n\u001b[0m\u001b[0;32m      2\u001b[0m     \u001b[0mwalk\u001b[0m\u001b[1;33m=\u001b[0m\u001b[1;36m1\u001b[0m\u001b[1;33m\u001b[0m\u001b[0m\n\u001b[0;32m      3\u001b[0m \u001b[1;32melse\u001b[0m\u001b[1;33m:\u001b[0m\u001b[1;33m\u001b[0m\u001b[0m\n\u001b[0;32m      4\u001b[0m     \u001b[0mwalk\u001b[0m\u001b[1;33m=\u001b[0m\u001b[1;36m0\u001b[0m\u001b[1;33m\u001b[0m\u001b[0m\n\u001b[0;32m      5\u001b[0m \u001b[1;32mprint\u001b[0m \u001b[0mwalk\u001b[0m\u001b[1;33m\u001b[0m\u001b[0m\n",
      "\u001b[1;31mIndexError\u001b[0m: list index out of range"
     ]
    }
   ],
   "source": [
    "if( _stripper(re.split(',|мин[.]', metro)[2])=='пешком'):\n",
    "    walk=1\n",
    "else:\n",
    "    walk=0    \n",
    "print walk "
   ]
  },
  {
   "cell_type": "code",
   "execution_count": 43,
   "metadata": {
    "collapsed": true
   },
   "outputs": [],
   "source": [
    "def getMetro(flat_page):\n",
    "    metro = flat_page.find('div', attrs={'class':'object_descr_metro'})\n",
    "    metro = html_stripper(metro)\n",
    "    metro = n_stripper(metro)\n",
    "    if(metro != ''):\n",
    "        metro_station = re.split(',|мин[.]', metro)[0]\n",
    "        if(_stripper(re.split(',|мин[.]', metro)[1])!=''):\n",
    "            if(_stripper(re.split(',|мин[.]', metro)[1]).isdigit()):\n",
    "                metro_time = int(_stripper(re.split(',|мин[.]', metro)[1]))\n",
    "            else:\n",
    "                metro_time = None\n",
    "            \n",
    "            if( _stripper(re.split(',|мин[.]', metro)[2])=='пешком'):\n",
    "                walk=1\n",
    "            elif(_stripper(re.split(',|мин[.]', metro)[2])=='на машине'):\n",
    "                walk=0 \n",
    "            else:\n",
    "                walk=None\n",
    "        else:\n",
    "            metro_time = None\n",
    "            walk = None\n",
    "    else:\n",
    "        metro_time, metro_station, walk = (None,None,None)\n",
    "    return metro_time, metro_station, walk"
   ]
  },
  {
   "cell_type": "code",
   "execution_count": 44,
   "metadata": {
    "collapsed": false
   },
   "outputs": [
    {
     "name": "stdout",
     "output_type": "stream",
     "text": [
      "None\n",
      "Румянцево\n",
      "0\n"
     ]
    }
   ],
   "source": [
    "for item in getMetro(flat_page):\n",
    "    print item"
   ]
  },
  {
   "cell_type": "code",
   "execution_count": 31,
   "metadata": {
    "collapsed": false
   },
   "outputs": [
    {
     "ename": "NameError",
     "evalue": "name 'links' is not defined",
     "output_type": "error",
     "traceback": [
      "\u001b[1;31m---------------------------------------------------------------------------\u001b[0m",
      "\u001b[1;31mNameError\u001b[0m                                 Traceback (most recent call last)",
      "\u001b[1;32m<ipython-input-31-c08388210bad>\u001b[0m in \u001b[0;36m<module>\u001b[1;34m()\u001b[0m\n\u001b[1;32m----> 1\u001b[1;33m \u001b[0mflat_url\u001b[0m \u001b[1;33m=\u001b[0m \u001b[1;34m'http://www.cian.ru/sale/flat/'\u001b[0m \u001b[1;33m+\u001b[0m \u001b[0mstr\u001b[0m\u001b[1;33m(\u001b[0m\u001b[0mlinks\u001b[0m\u001b[1;33m[\u001b[0m\u001b[1;36m32\u001b[0m\u001b[1;33m]\u001b[0m\u001b[1;33m)\u001b[0m \u001b[1;33m+\u001b[0m \u001b[1;34m'/'\u001b[0m\u001b[1;33m\u001b[0m\u001b[0m\n\u001b[0m\u001b[0;32m      2\u001b[0m \u001b[1;31m#flat_url = 'http://www.cian.ru/sale/flat/150531912/'\u001b[0m\u001b[1;33m\u001b[0m\u001b[1;33m\u001b[0m\u001b[0m\n\u001b[0;32m      3\u001b[0m \u001b[0mflat_page\u001b[0m \u001b[1;33m=\u001b[0m \u001b[0mrequests\u001b[0m\u001b[1;33m.\u001b[0m\u001b[0mget\u001b[0m\u001b[1;33m(\u001b[0m\u001b[0mflat_url\u001b[0m\u001b[1;33m)\u001b[0m\u001b[1;33m\u001b[0m\u001b[0m\n\u001b[0;32m      4\u001b[0m \u001b[0mflat_page\u001b[0m \u001b[1;33m=\u001b[0m \u001b[0mflat_page\u001b[0m\u001b[1;33m.\u001b[0m\u001b[0mcontent\u001b[0m\u001b[1;33m\u001b[0m\u001b[0m\n\u001b[0;32m      5\u001b[0m \u001b[0mflat_page\u001b[0m \u001b[1;33m=\u001b[0m \u001b[0mBeautifulSoup\u001b[0m\u001b[1;33m(\u001b[0m\u001b[0mflat_page\u001b[0m\u001b[1;33m,\u001b[0m \u001b[1;34m'lxml'\u001b[0m\u001b[1;33m)\u001b[0m\u001b[1;33m\u001b[0m\u001b[0m\n",
      "\u001b[1;31mNameError\u001b[0m: name 'links' is not defined"
     ]
    }
   ],
   "source": [
    "flat_url = 'http://www.cian.ru/sale/flat/' + str(links[32]) + '/'\n",
    "#flat_url = 'http://www.cian.ru/sale/flat/150531912/' \n",
    "flat_page = requests.get(flat_url)\n",
    "flat_page = flat_page.content\n",
    "flat_page = BeautifulSoup(flat_page, 'lxml')\n",
    "for item in getMetro(flat_page):\n",
    "    print item"
   ]
  },
  {
   "cell_type": "markdown",
   "metadata": {},
   "source": [
    "# Таблица"
   ]
  },
  {
   "cell_type": "code",
   "execution_count": 15,
   "metadata": {
    "collapsed": true
   },
   "outputs": [],
   "source": [
    "table = flat_page.find('table', attrs = {'class':'object_descr_props'})"
   ]
  },
  {
   "cell_type": "code",
   "execution_count": 16,
   "metadata": {
    "collapsed": false
   },
   "outputs": [
    {
     "data": {
      "text/plain": [
       "<table class=\"object_descr_props flat sale\" style=\"float:left\">\\n<tr>\\n<th style=\"padding-top:5px;\"> # \\u041e\\u0431\\u0449\\u0430\\u044f \\u0438\\u043d\\u0444\\u043e\\u0440\\u043c\\u0430\\u0446\\u0438\\u044f:</th>\\n</tr>\\n<tr>\\n<th>\\u042d\\u0442\\u0430\\u0436:</th>\\n<td>\\n                4\\xa0/\\xa017\\n                \\n            </td>\\n</tr>\\n<tr>\\n<th>\\u0422\\u0438\\u043f \\u0434\\u043e\\u043c\\u0430:</th>\\n<td>\\n            \\u0432\\u0442\\u043e\\u0440\\u0438\\u0447\\u043a\\u0430, \\n            \\u043f\\u0430\\u043d\\u0435\\u043b\\u044c\\u043d\\u044b\\u0439 \\u0434\\u043e\\u043c\\n        </td>\\n</tr>\\n<tr>\\n<th>\\u0422\\u0438\\u043f \\u043f\\u0440\\u043e\\u0434\\u0430\\u0436\\u0438:</th>\\n<td>\\u0441\\u0432\\u043e\\u0431\\u043e\\u0434\\u043d\\u0430\\u044f</td>\\n</tr>\\n<tr>\\n<th>\\u041e\\u0431\\u0449\\u0430\\u044f \\u043f\\u043b\\u043e\\u0449\\u0430\\u0434\\u044c:</th>\\n<td>\\n<i class=\"object_descr_details_color\"></i>58,6\\xa0\\u043c<sup>2</sup>\\n</td>\\n</tr>\\n<tr>\\n<th>\\u041f\\u043b\\u043e\\u0449\\u0430\\u0434\\u044c \\u043a\\u043e\\u043c\\u043d\\u0430\\u0442:</th>\\n<td>\\n<i class=\"object_descr_details_color\"></i><!--\\n-->18 14.2\\xa0\\u043c<sup>2</sup>\\n</td>\\n</tr>\\n<tr>\\n<th>\\u0416\\u0438\\u043b\\u0430\\u044f \\u043f\\u043b\\u043e\\u0449\\u0430\\u0434\\u044c:</th>\\n<td>\\n<i class=\"object_descr_details_color\" style=\"background-color:#90C090\"></i>32,2\\xa0\\u043c<sup>2</sup>\\n</td>\\n</tr>\\n<tr>\\n<th>\\u041f\\u043b\\u043e\\u0449\\u0430\\u0434\\u044c \\u043a\\u0443\\u0445\\u043d\\u0438:</th>\\n<td>\\n<i class=\"object_descr_details_color\" style=\"background-color:#C09090\"></i>10,1\\xa0\\u043c<sup>2</sup>\\n</td>\\n</tr>\\n<tr>\\n<th>\\u0420\\u0430\\u0437\\u0434\\u0435\\u043b\\u044c\\u043d\\u044b\\u0445 \\u0441\\u0430\\u043d\\u0443\\u0437\\u043b\\u043e\\u0432:</th>\\n<td><i class=\"object_descr_details_color\" style=\"background-color:#90C0C0\"></i>1\\n            </td>\\n</tr>\\n<tr>\\n<th>\\u0411\\u0430\\u043b\\u043a\\u043e\\u043d:</th>\\n<td><i class=\"object_descr_details_color\" style=\"background-color:#C0C0C0\"></i>\\u2013\\n        </td>\\n</tr>\\n<tr>\\n<th>\\u041b\\u0438\\u0444\\u0442:</th>\\n<td>1 \\u043f\\u0430\\u0441\\u0441. + 1 \\u0433\\u0440\\u0443\\u0437.</td>\\n</tr>\\n<tr>\\n<th>\\u0422\\u0435\\u043b\\u0435\\u0444\\u043e\\u043d:</th>\\n<td>\\u0434\\u0430</td>\\n</tr>\\n<tr>\\n<th>\\u0412\\u0438\\u0434 \\u0438\\u0437 \\u043e\\u043a\\u043d\\u0430:</th>\\n<td>\\u0434\\u0432\\u043e\\u0440 \\u0438 \\u0443\\u043b\\u0438\\u0446\\u0430</td>\\n</tr>\\n</table>"
      ]
     },
     "execution_count": 16,
     "metadata": {},
     "output_type": "execute_result"
    }
   ],
   "source": [
    "table"
   ]
  },
  {
   "cell_type": "code",
   "execution_count": 20,
   "metadata": {
    "collapsed": false,
    "scrolled": true
   },
   "outputs": [
    {
     "data": {
      "text/plain": [
       "'\\n\\n # \\xd0\\x9e\\xd0\\xb1\\xd1\\x89\\xd0\\xb0\\xd1\\x8f \\xd0\\xb8\\xd0\\xbd\\xd1\\x84\\xd0\\xbe\\xd1\\x80\\xd0\\xbc\\xd0\\xb0\\xd1\\x86\\xd0\\xb8\\xd1\\x8f:\\n\\n\\n\\xd0\\xad\\xd1\\x82\\xd0\\xb0\\xd0\\xb6:\\n\\n                4\\xc2\\xa0/\\xc2\\xa017\\n                \\n            \\n\\n\\n\\xd0\\xa2\\xd0\\xb8\\xd0\\xbf \\xd0\\xb4\\xd0\\xbe\\xd0\\xbc\\xd0\\xb0:\\n\\n            \\xd0\\xb2\\xd1\\x82\\xd0\\xbe\\xd1\\x80\\xd0\\xb8\\xd1\\x87\\xd0\\xba\\xd0\\xb0, \\n            \\xd0\\xbf\\xd0\\xb0\\xd0\\xbd\\xd0\\xb5\\xd0\\xbb\\xd1\\x8c\\xd0\\xbd\\xd1\\x8b\\xd0\\xb9 \\xd0\\xb4\\xd0\\xbe\\xd0\\xbc\\n        \\n\\n\\n\\xd0\\xa2\\xd0\\xb8\\xd0\\xbf \\xd0\\xbf\\xd1\\x80\\xd0\\xbe\\xd0\\xb4\\xd0\\xb0\\xd0\\xb6\\xd0\\xb8:\\n\\xd1\\x81\\xd0\\xb2\\xd0\\xbe\\xd0\\xb1\\xd0\\xbe\\xd0\\xb4\\xd0\\xbd\\xd0\\xb0\\xd1\\x8f\\n\\n\\n\\xd0\\x9e\\xd0\\xb1\\xd1\\x89\\xd0\\xb0\\xd1\\x8f \\xd0\\xbf\\xd0\\xbb\\xd0\\xbe\\xd1\\x89\\xd0\\xb0\\xd0\\xb4\\xd1\\x8c:\\n\\n58,6\\xc2\\xa0\\xd0\\xbc2\\n\\n\\n\\n\\xd0\\x9f\\xd0\\xbb\\xd0\\xbe\\xd1\\x89\\xd0\\xb0\\xd0\\xb4\\xd1\\x8c \\xd0\\xba\\xd0\\xbe\\xd0\\xbc\\xd0\\xbd\\xd0\\xb0\\xd1\\x82:\\n\\n18 14.2\\xc2\\xa0\\xd0\\xbc2\\n\\n\\n\\n\\xd0\\x96\\xd0\\xb8\\xd0\\xbb\\xd0\\xb0\\xd1\\x8f \\xd0\\xbf\\xd0\\xbb\\xd0\\xbe\\xd1\\x89\\xd0\\xb0\\xd0\\xb4\\xd1\\x8c:\\n\\n32,2\\xc2\\xa0\\xd0\\xbc2\\n\\n\\n\\n\\xd0\\x9f\\xd0\\xbb\\xd0\\xbe\\xd1\\x89\\xd0\\xb0\\xd0\\xb4\\xd1\\x8c \\xd0\\xba\\xd1\\x83\\xd1\\x85\\xd0\\xbd\\xd0\\xb8:\\n\\n10,1\\xc2\\xa0\\xd0\\xbc2\\n\\n\\n\\n\\xd0\\xa0\\xd0\\xb0\\xd0\\xb7\\xd0\\xb4\\xd0\\xb5\\xd0\\xbb\\xd1\\x8c\\xd0\\xbd\\xd1\\x8b\\xd1\\x85 \\xd1\\x81\\xd0\\xb0\\xd0\\xbd\\xd1\\x83\\xd0\\xb7\\xd0\\xbb\\xd0\\xbe\\xd0\\xb2:\\n1\\n            \\n\\n\\n\\xd0\\x91\\xd0\\xb0\\xd0\\xbb\\xd0\\xba\\xd0\\xbe\\xd0\\xbd:\\n\\xe2\\x80\\x93\\n        \\n\\n\\n\\xd0\\x9b\\xd0\\xb8\\xd1\\x84\\xd1\\x82:\\n1 \\xd0\\xbf\\xd0\\xb0\\xd1\\x81\\xd1\\x81. + 1 \\xd0\\xb3\\xd1\\x80\\xd1\\x83\\xd0\\xb7.\\n\\n\\n\\xd0\\xa2\\xd0\\xb5\\xd0\\xbb\\xd0\\xb5\\xd1\\x84\\xd0\\xbe\\xd0\\xbd:\\n\\xd0\\xb4\\xd0\\xb0\\n\\n\\n\\xd0\\x92\\xd0\\xb8\\xd0\\xb4 \\xd0\\xb8\\xd0\\xb7 \\xd0\\xbe\\xd0\\xba\\xd0\\xbd\\xd0\\xb0:\\n\\xd0\\xb4\\xd0\\xb2\\xd0\\xbe\\xd1\\x80 \\xd0\\xb8 \\xd1\\x83\\xd0\\xbb\\xd0\\xb8\\xd1\\x86\\xd0\\xb0\\n\\n'"
      ]
     },
     "execution_count": 20,
     "metadata": {},
     "output_type": "execute_result"
    }
   ],
   "source": [
    "table = html_stripper(table)\n",
    "table"
   ]
  },
  {
   "cell_type": "code",
   "execution_count": 21,
   "metadata": {
    "collapsed": false
   },
   "outputs": [
    {
     "name": "stdout",
     "output_type": "stream",
     "text": [
      "Телефон:\n",
      "да\n"
     ]
    }
   ],
   "source": [
    "print ('\\xd0\\xa2\\xd0\\xb5\\xd0\\xbb\\xd0\\xb5\\xd1\\x84\\xd0\\xbe\\xd0\\xbd:\\n\\xd0\\xb4\\xd0\\xb0')"
   ]
  },
  {
   "cell_type": "code",
   "execution_count": 30,
   "metadata": {
    "collapsed": false
   },
   "outputs": [
    {
     "name": "stdout",
     "output_type": "stream",
     "text": [
      "1\n"
     ]
    }
   ],
   "source": [
    "print len(re.findall(r'Телефон:\\nда', table))"
   ]
  },
  {
   "cell_type": "code",
   "execution_count": 68,
   "metadata": {
    "collapsed": false
   },
   "outputs": [
    {
     "data": {
      "text/plain": [
       "'2'"
      ]
     },
     "execution_count": 68,
     "metadata": {},
     "output_type": "execute_result"
    }
   ],
   "source": [
    "floor, total_floors = re.findall('\\d+', re.split('Этаж|Тип дома', table)[1])\n",
    "floor"
   ]
  },
  {
   "cell_type": "code",
   "execution_count": 22,
   "metadata": {
    "collapsed": false
   },
   "outputs": [
    {
     "name": "stdout",
     "output_type": "stream",
     "text": [
      "None\n"
     ]
    }
   ],
   "source": [
    "print len(re.findall(r'Телефон:\\nда', table))\n",
    " "
   ]
  },
  {
   "cell_type": "code",
   "execution_count": 69,
   "metadata": {
    "collapsed": false
   },
   "outputs": [
    {
     "name": "stdout",
     "output_type": "stream",
     "text": [
      "вторичка\n"
     ]
    }
   ],
   "source": [
    "condition = re.split(r',',re.sub(r'\\n| ','',re.split('Тип дома:|Тип продажи', table)[1]))[0]\n",
    "print condition"
   ]
  },
  {
   "cell_type": "code",
   "execution_count": 70,
   "metadata": {
    "collapsed": false
   },
   "outputs": [
    {
     "name": "stdout",
     "output_type": "stream",
     "text": [
      "кирпичный\n"
     ]
    }
   ],
   "source": [
    "house_type = re.split(r',',re.sub(r'\\n| ','',re.split('Тип дома:|Тип продажи', table)[1]))[1]\n",
    "print house_type"
   ]
  },
  {
   "cell_type": "code",
   "execution_count": 71,
   "metadata": {
    "collapsed": false
   },
   "outputs": [
    {
     "data": {
      "text/plain": [
       "'36'"
      ]
     },
     "execution_count": 71,
     "metadata": {},
     "output_type": "execute_result"
    }
   ],
   "source": [
    "total_space = re.findall( r'\\d+\\,*\\d*', re.split('Общая площадь:|м2', table)[1] )[0]\n",
    "total_space"
   ]
  },
  {
   "cell_type": "code",
   "execution_count": 72,
   "metadata": {
    "collapsed": false
   },
   "outputs": [
    {
     "data": {
      "text/plain": [
       "'26'"
      ]
     },
     "execution_count": 72,
     "metadata": {},
     "output_type": "execute_result"
    }
   ],
   "source": [
    "living_space = re.findall( r'\\d+\\,*\\d*', re.split('Жилая площадь:|Площадь кухни:', table)[1] )[0]\n",
    "living_space"
   ]
  },
  {
   "cell_type": "code",
   "execution_count": 73,
   "metadata": {
    "collapsed": false
   },
   "outputs": [
    {
     "data": {
      "text/plain": [
       "'4'"
      ]
     },
     "execution_count": 73,
     "metadata": {},
     "output_type": "execute_result"
    }
   ],
   "source": [
    "cooking_space = re.findall( r'\\d+\\,*\\d*', re.split('Площадь кухни:|м2', table)[4] )[0]\n",
    "cooking_space"
   ]
  },
  {
   "cell_type": "code",
   "execution_count": 96,
   "metadata": {
    "collapsed": false
   },
   "outputs": [
    {
     "name": "stdout",
     "output_type": "stream",
     "text": [
      "1\n"
     ]
    }
   ],
   "source": [
    "if(re.search(r'Балкон:\\n\\d+\\,*\\d*', table)):\n",
    "    Bal  = re.findall( r'\\d+\\,*\\d*',re.findall( r'Балкон:\\n\\d+\\,*\\d*', table)[0])[0]\n",
    "else:\n",
    "    Bal  = None\n",
    "print Bal"
   ]
  },
  {
   "cell_type": "code",
   "execution_count": 75,
   "metadata": {
    "collapsed": false
   },
   "outputs": [
    {
     "name": "stdout",
     "output_type": "stream",
     "text": [
      "4\n"
     ]
    }
   ],
   "source": [
    "if(re.search(r'Площадь кухни:\\n\\n\\d+\\,*\\d*', table)):\n",
    "    cooking_space = re.findall( r'\\d+\\,*\\d*',re.findall( r'Площадь кухни:\\n\\n\\d+\\,*\\d*', table)[0])\n",
    "else:\n",
    "    cooking_space = None\n",
    "print cooking_space[0]"
   ]
  },
  {
   "cell_type": "code",
   "execution_count": 76,
   "metadata": {
    "collapsed": false
   },
   "outputs": [
    {
     "name": "stdout",
     "output_type": "stream",
     "text": [
      "0\n"
     ]
    }
   ],
   "source": [
    "if(re.search( 'Совмещенных санузлов:\\n\\d', table)):\n",
    "    combined_bs = re.search( 'Совмещенных санузлов:\\n\\d', table).group(0)[-1]\n",
    "else:\n",
    "    combined_bs = 0\n",
    "print combined_bs"
   ]
  },
  {
   "cell_type": "code",
   "execution_count": 77,
   "metadata": {
    "collapsed": false
   },
   "outputs": [
    {
     "data": {
      "text/plain": [
       "'1'"
      ]
     },
     "execution_count": 77,
     "metadata": {},
     "output_type": "execute_result"
    }
   ],
   "source": [
    "if(re.search( 'Раздельных санузлов:\\n\\d', table)):\n",
    "    separate_bs = re.search( 'Раздельных санузлов:\\n\\d', table).group(0)[-1]\n",
    "else:\n",
    "    separate_bs = 0\n",
    "separate_bs"
   ]
  },
  {
   "cell_type": "code",
   "execution_count": 8,
   "metadata": {
    "collapsed": true
   },
   "outputs": [],
   "source": [
    "def getTable(flat_page):\n",
    "    table = html_stripper(flat_page.find('table', attrs = {'class':'object_descr_props'}))\n",
    "    if(len(re.findall('\\d+', re.split('Этаж|Тип дома', table)[1]))==2):\n",
    "        floor, total_floors = re.findall('\\d+', re.split('Этаж|Тип дома', table)[1])\n",
    "    else:\n",
    "        floor = re.findall('\\d+', re.split('Этаж|Тип дома', table)[1])[0]\n",
    "        total_floors = None\n",
    "        \n",
    "    if (len(re.split(r',',re.sub(r'\\n| ','',re.split('Тип дома:|Тип продажи|Высота потолков:', table)[1])))==2):\n",
    "        new = re.split(r',',re.sub(r'\\n| ','',re.split('Тип дома:|Тип продажи|Высота потолков:', table)[1]))[0]\n",
    "        house_type = re.split(r',',re.sub(r'\\n| ','',re.split('Тип дома:|Тип продажи|Высота потолков:', table)[1]))[1]\n",
    "    else:\n",
    "        new = re.split(r',',re.sub(r'\\n| ','',re.split('Тип дома:|Тип продажи|Высота потолков:', table)[1]))[0]\n",
    "        house_type = 'Else'\n",
    "    if(new=='новостройка'):\n",
    "        new = 1\n",
    "    else:\n",
    "        new = 0\n",
    "        \n",
    "    if(re.search( 'Общая площадь:\\n\\n\\xe2\\x80\\x93', table)):\n",
    "        total_space = None\n",
    "    else:\n",
    "        total_space = re.findall( r'\\d+\\,*\\d*', re.split('Общая площадь:|Площадь кухни:', table)[1] )[0]\n",
    "        total_space = float(re.sub(',','.',total_space))\n",
    "            \n",
    "    #total_space = re.findall( r'\\d+\\,*\\d*', re.split('Общая площадь:|м2', table)[1] )[0]\n",
    "    if(re.search( 'Жилая площадь:\\n\\n\\xe2\\x80\\x93', table)):\n",
    "        living_space = None\n",
    "    else:\n",
    "        living_space = re.findall( r'\\d+\\,*\\d*', re.split('Жилая площадь:|Площадь кухни:', table)[1] )[0]\n",
    "        living_space = float(re.sub(',','.',living_space))\n",
    "        \n",
    "    if(re.search(r'Площадь кухни:\\n\\n\\d+\\,*\\d*', table)):\n",
    "        cooking_space = re.findall( r'\\d+\\,*\\d*',re.findall( r'Площадь кухни:\\n\\n\\d+\\,*\\d*', table)[0])[0]\n",
    "        cooking_space = float(re.sub(',','.',cooking_space))\n",
    "    else:\n",
    "        cooking_space = None\n",
    "        \n",
    "    if(re.search( 'Совмещенных санузлов:\\n\\d', table)):\n",
    "        combined_bs = re.search( 'Совмещенных санузлов:\\n\\d', table).group(0)[-1]\n",
    "    else:\n",
    "        combined_bs = 0\n",
    "        \n",
    "    if(re.search( 'Раздельных санузлов:\\n\\d', table)):\n",
    "        separate_bs = re.search( 'Раздельных санузлов:\\n\\d', table).group(0)[-1]\n",
    "    else:\n",
    "        separate_bs = 0\n",
    "        \n",
    "    Tel = len(re.findall(r'Телефон:\\nда', table))  \n",
    "        \n",
    "    return floor, total_floors,new,house_type,total_space,living_space,cooking_space,combined_bs,separate_bs,Tel"
   ]
  },
  {
   "cell_type": "code",
   "execution_count": 9,
   "metadata": {
    "collapsed": false
   },
   "outputs": [],
   "source": [
    "floor, total_floors,new,house_type,total_space,living_space,cooking_space,combined_bs,separate_bs,Tel = getTable(flat_page)"
   ]
  },
  {
   "cell_type": "code",
   "execution_count": 10,
   "metadata": {
    "collapsed": false
   },
   "outputs": [
    {
     "name": "stdout",
     "output_type": "stream",
     "text": [
      "7\n",
      "12\n",
      "0\n",
      "Else\n",
      "52.0\n",
      "31.0\n",
      "10.0\n",
      "0\n",
      "1\n"
     ]
    }
   ],
   "source": [
    "for item in [floor, total_floors,new,house_type,total_space,living_space,cooking_space,combined_bs,separate_bs]:\n",
    "    print item"
   ]
  },
  {
   "cell_type": "code",
   "execution_count": 150,
   "metadata": {
    "collapsed": false
   },
   "outputs": [],
   "source": [
    "flatStats['floor'], flatStats['total_floors'],flatStats['new'],flatStats['house_type'],\\\n",
    "flatStats['total_space'],flatStats['living_space'],flatStats['cooking_space'],\\\n",
    "flatStats['combined_bs'],flatStats['separate_bs'],flatStats['Tel']=getTable(flat_page)"
   ]
  },
  {
   "cell_type": "markdown",
   "metadata": {},
   "source": [
    "# Парсим одну страницу"
   ]
  },
  {
   "cell_type": "code",
   "execution_count": 171,
   "metadata": {
    "collapsed": true
   },
   "outputs": [],
   "source": [
    "def evaluate_flat(link, District=0):\n",
    "    flat_url = 'http://www.cian.ru/sale/flat/' + str(link) + '/'\n",
    "    #flat_url = 'http://www.cian.ru/sale/flat/150531912/' \n",
    "    flat_page = requests.get(flat_url)\n",
    "    flat_page = flat_page.content\n",
    "    flat_page = BeautifulSoup(flat_page, 'lxml')\n",
    "    flatStats = {'District':District}\n",
    "    flatStats['Price'] = getPrice(flat_page)\n",
    "    flatStats['lat'], flatStats['lon'],flatStats['dist'] = getCoords(flat_page)\n",
    "    flatStats['rooms'] = getRoom(flat_page)\n",
    "    flatStats['floor'], flatStats['total_floors'],flatStats['new'],\\\n",
    "    flatStats['house_type'],flatStats['total_space'],flatStats['living_space'],\\\n",
    "    flatStats['cooking_space'],flatStats['combined_bs'],flatStats['separate_bs'],flatStats['Tel'] = getTable(flat_page)\n",
    "    flatStats['metro_time'],flatStats['metro_station'],flatStats['walk'] = getMetro(flat_page)\n",
    "    return flatStats"
   ]
  },
  {
   "cell_type": "code",
   "execution_count": 172,
   "metadata": {
    "collapsed": false
   },
   "outputs": [],
   "source": [
    "stats = evaluate_flat(links[0])"
   ]
  },
  {
   "cell_type": "code",
   "execution_count": 173,
   "metadata": {
    "collapsed": false
   },
   "outputs": [
    {
     "data": {
      "text/plain": [
       "{'District': 0,\n",
       " 'Price': 12200000,\n",
       " 'Tel': 0,\n",
       " 'combined_bs': 0,\n",
       " 'cooking_space': 4.0,\n",
       " 'dist': 4.6829111655262725,\n",
       " 'floor': '2',\n",
       " 'house_type': '\\xd0\\xba\\xd0\\xb8\\xd1\\x80\\xd0\\xbf\\xd0\\xb8\\xd1\\x87\\xd0\\xbd\\xd1\\x8b\\xd0\\xb9',\n",
       " 'lat': 55.744526,\n",
       " 'living_space': 26.0,\n",
       " 'lon': 37.580652,\n",
       " 'metro_station': '\\xd0\\x9a\\xd0\\xb8\\xd0\\xb5\\xd0\\xb2\\xd1\\x81\\xd0\\xba\\xd0\\xb0\\xd1\\x8f',\n",
       " 'metro_time': 5,\n",
       " 'new': 0,\n",
       " 'rooms': '2',\n",
       " 'separate_bs': '1',\n",
       " 'total_floors': '5',\n",
       " 'total_space': 36.0,\n",
       " 'walk': 1}"
      ]
     },
     "execution_count": 173,
     "metadata": {},
     "output_type": "execute_result"
    }
   ],
   "source": [
    "stats"
   ]
  },
  {
   "cell_type": "markdown",
   "metadata": {},
   "source": [
    "#  Парсим 100 первых страниц и записываем результат в DataFrame to csv"
   ]
  },
  {
   "cell_type": "code",
   "execution_count": 174,
   "metadata": {
    "collapsed": false
   },
   "outputs": [],
   "source": [
    "Data = pd.DataFrame()\n",
    "for link in links[:10]:\n",
    "    last_link=link\n",
    "    stats = evaluate_flat(link)\n",
    "    TempData = pd.DataFrame.from_records([stats])\n",
    "    #print TempData\n",
    "    Data = Data.append(TempData, ignore_index=True)\n",
    "Data.to_csv('Data_cian.csv')"
   ]
  },
  {
   "cell_type": "code",
   "execution_count": 175,
   "metadata": {
    "collapsed": false
   },
   "outputs": [
    {
     "data": {
      "text/html": [
       "<div>\n",
       "<table border=\"1\" class=\"dataframe\">\n",
       "  <thead>\n",
       "    <tr style=\"text-align: right;\">\n",
       "      <th></th>\n",
       "      <th>District</th>\n",
       "      <th>Price</th>\n",
       "      <th>Tel</th>\n",
       "      <th>combined_bs</th>\n",
       "      <th>cooking_space</th>\n",
       "      <th>dist</th>\n",
       "      <th>floor</th>\n",
       "      <th>house_type</th>\n",
       "      <th>lat</th>\n",
       "      <th>living_space</th>\n",
       "      <th>lon</th>\n",
       "      <th>metro_station</th>\n",
       "      <th>metro_time</th>\n",
       "      <th>new</th>\n",
       "      <th>rooms</th>\n",
       "      <th>separate_bs</th>\n",
       "      <th>total_floors</th>\n",
       "      <th>total_space</th>\n",
       "      <th>walk</th>\n",
       "    </tr>\n",
       "  </thead>\n",
       "  <tbody>\n",
       "    <tr>\n",
       "      <th>0</th>\n",
       "      <td>0</td>\n",
       "      <td>12200000</td>\n",
       "      <td>0</td>\n",
       "      <td>0</td>\n",
       "      <td>4</td>\n",
       "      <td>4.682911</td>\n",
       "      <td>2</td>\n",
       "      <td>кирпичный</td>\n",
       "      <td>55.744526</td>\n",
       "      <td>26</td>\n",
       "      <td>37.580652</td>\n",
       "      <td>Киевская</td>\n",
       "      <td>5</td>\n",
       "      <td>0</td>\n",
       "      <td>2</td>\n",
       "      <td>1</td>\n",
       "      <td>5</td>\n",
       "      <td>36.0</td>\n",
       "      <td>1</td>\n",
       "    </tr>\n",
       "    <tr>\n",
       "      <th>1</th>\n",
       "      <td>0</td>\n",
       "      <td>12500000</td>\n",
       "      <td>0</td>\n",
       "      <td>0</td>\n",
       "      <td>12</td>\n",
       "      <td>3.041024</td>\n",
       "      <td>11</td>\n",
       "      <td>блочный</td>\n",
       "      <td>55.773900</td>\n",
       "      <td>30</td>\n",
       "      <td>37.644441</td>\n",
       "      <td>Красные ворота</td>\n",
       "      <td>8</td>\n",
       "      <td>0</td>\n",
       "      <td>2</td>\n",
       "      <td>1</td>\n",
       "      <td>16</td>\n",
       "      <td>55.0</td>\n",
       "      <td>1</td>\n",
       "    </tr>\n",
       "    <tr>\n",
       "      <th>2</th>\n",
       "      <td>0</td>\n",
       "      <td>258200000</td>\n",
       "      <td>0</td>\n",
       "      <td>0</td>\n",
       "      <td>None</td>\n",
       "      <td>5.034962</td>\n",
       "      <td>5</td>\n",
       "      <td>Else</td>\n",
       "      <td>55.723699</td>\n",
       "      <td>None</td>\n",
       "      <td>37.583697</td>\n",
       "      <td>Фрунзенская</td>\n",
       "      <td>7</td>\n",
       "      <td>0</td>\n",
       "      <td>5</td>\n",
       "      <td>0</td>\n",
       "      <td>12</td>\n",
       "      <td>258.2</td>\n",
       "      <td>1</td>\n",
       "    </tr>\n",
       "    <tr>\n",
       "      <th>3</th>\n",
       "      <td>0</td>\n",
       "      <td>4814581</td>\n",
       "      <td>0</td>\n",
       "      <td>1</td>\n",
       "      <td>None</td>\n",
       "      <td>5.903571</td>\n",
       "      <td>2</td>\n",
       "      <td>Else</td>\n",
       "      <td>55.776294</td>\n",
       "      <td>None</td>\n",
       "      <td>37.672163</td>\n",
       "      <td>Бауманская</td>\n",
       "      <td>5</td>\n",
       "      <td>0</td>\n",
       "      <td>1</td>\n",
       "      <td>0</td>\n",
       "      <td>5</td>\n",
       "      <td>17.3</td>\n",
       "      <td>1</td>\n",
       "    </tr>\n",
       "    <tr>\n",
       "      <th>4</th>\n",
       "      <td>0</td>\n",
       "      <td>4814581</td>\n",
       "      <td>0</td>\n",
       "      <td>1</td>\n",
       "      <td>None</td>\n",
       "      <td>5.903571</td>\n",
       "      <td>2</td>\n",
       "      <td>кирпичный</td>\n",
       "      <td>55.776294</td>\n",
       "      <td>17.3</td>\n",
       "      <td>37.672163</td>\n",
       "      <td>Красносельская</td>\n",
       "      <td>5</td>\n",
       "      <td>0</td>\n",
       "      <td>1</td>\n",
       "      <td>0</td>\n",
       "      <td>6</td>\n",
       "      <td>17.3</td>\n",
       "      <td>1</td>\n",
       "    </tr>\n",
       "    <tr>\n",
       "      <th>5</th>\n",
       "      <td>0</td>\n",
       "      <td>5225953</td>\n",
       "      <td>0</td>\n",
       "      <td>1</td>\n",
       "      <td>None</td>\n",
       "      <td>5.864250</td>\n",
       "      <td>4</td>\n",
       "      <td>Else</td>\n",
       "      <td>55.775753</td>\n",
       "      <td>18.1</td>\n",
       "      <td>37.671938</td>\n",
       "      <td>Красносельская</td>\n",
       "      <td>6</td>\n",
       "      <td>1</td>\n",
       "      <td>1</td>\n",
       "      <td>0</td>\n",
       "      <td>None</td>\n",
       "      <td>18.1</td>\n",
       "      <td>1</td>\n",
       "    </tr>\n",
       "    <tr>\n",
       "      <th>6</th>\n",
       "      <td>0</td>\n",
       "      <td>5377566</td>\n",
       "      <td>0</td>\n",
       "      <td>1</td>\n",
       "      <td>None</td>\n",
       "      <td>5.903571</td>\n",
       "      <td>5</td>\n",
       "      <td>Else</td>\n",
       "      <td>55.776294</td>\n",
       "      <td>None</td>\n",
       "      <td>37.672163</td>\n",
       "      <td>Бауманская</td>\n",
       "      <td>5</td>\n",
       "      <td>0</td>\n",
       "      <td>1</td>\n",
       "      <td>0</td>\n",
       "      <td>5</td>\n",
       "      <td>18.3</td>\n",
       "      <td>1</td>\n",
       "    </tr>\n",
       "    <tr>\n",
       "      <th>7</th>\n",
       "      <td>0</td>\n",
       "      <td>5377566</td>\n",
       "      <td>0</td>\n",
       "      <td>1</td>\n",
       "      <td>None</td>\n",
       "      <td>5.864250</td>\n",
       "      <td>5</td>\n",
       "      <td>Else</td>\n",
       "      <td>55.775753</td>\n",
       "      <td>18.3</td>\n",
       "      <td>37.671938</td>\n",
       "      <td>Красносельская</td>\n",
       "      <td>6</td>\n",
       "      <td>1</td>\n",
       "      <td>1</td>\n",
       "      <td>0</td>\n",
       "      <td>None</td>\n",
       "      <td>18.3</td>\n",
       "      <td>1</td>\n",
       "    </tr>\n",
       "    <tr>\n",
       "      <th>8</th>\n",
       "      <td>0</td>\n",
       "      <td>5496232</td>\n",
       "      <td>0</td>\n",
       "      <td>1</td>\n",
       "      <td>None</td>\n",
       "      <td>5.903571</td>\n",
       "      <td>2</td>\n",
       "      <td>кирпичный</td>\n",
       "      <td>55.776294</td>\n",
       "      <td>23.7</td>\n",
       "      <td>37.672163</td>\n",
       "      <td>Красносельская</td>\n",
       "      <td>5</td>\n",
       "      <td>0</td>\n",
       "      <td>1</td>\n",
       "      <td>0</td>\n",
       "      <td>6</td>\n",
       "      <td>23.7</td>\n",
       "      <td>1</td>\n",
       "    </tr>\n",
       "    <tr>\n",
       "      <th>9</th>\n",
       "      <td>0</td>\n",
       "      <td>5496232</td>\n",
       "      <td>0</td>\n",
       "      <td>1</td>\n",
       "      <td>None</td>\n",
       "      <td>5.864250</td>\n",
       "      <td>2</td>\n",
       "      <td>Else</td>\n",
       "      <td>55.775753</td>\n",
       "      <td>23.7</td>\n",
       "      <td>37.671938</td>\n",
       "      <td>Красносельская</td>\n",
       "      <td>6</td>\n",
       "      <td>1</td>\n",
       "      <td>1</td>\n",
       "      <td>0</td>\n",
       "      <td>None</td>\n",
       "      <td>23.7</td>\n",
       "      <td>1</td>\n",
       "    </tr>\n",
       "  </tbody>\n",
       "</table>\n",
       "</div>"
      ],
      "text/plain": [
       "   District      Price  Tel combined_bs cooking_space      dist floor  \\\n",
       "0         0   12200000    0           0             4  4.682911     2   \n",
       "1         0   12500000    0           0            12  3.041024    11   \n",
       "2         0  258200000    0           0          None  5.034962     5   \n",
       "3         0    4814581    0           1          None  5.903571     2   \n",
       "4         0    4814581    0           1          None  5.903571     2   \n",
       "5         0    5225953    0           1          None  5.864250     4   \n",
       "6         0    5377566    0           1          None  5.903571     5   \n",
       "7         0    5377566    0           1          None  5.864250     5   \n",
       "8         0    5496232    0           1          None  5.903571     2   \n",
       "9         0    5496232    0           1          None  5.864250     2   \n",
       "\n",
       "  house_type        lat living_space        lon   metro_station  metro_time  \\\n",
       "0  кирпичный  55.744526           26  37.580652        Киевская           5   \n",
       "1    блочный  55.773900           30  37.644441  Красные ворота           8   \n",
       "2       Else  55.723699         None  37.583697     Фрунзенская           7   \n",
       "3       Else  55.776294         None  37.672163      Бауманская           5   \n",
       "4  кирпичный  55.776294         17.3  37.672163  Красносельская           5   \n",
       "5       Else  55.775753         18.1  37.671938  Красносельская           6   \n",
       "6       Else  55.776294         None  37.672163      Бауманская           5   \n",
       "7       Else  55.775753         18.3  37.671938  Красносельская           6   \n",
       "8  кирпичный  55.776294         23.7  37.672163  Красносельская           5   \n",
       "9       Else  55.775753         23.7  37.671938  Красносельская           6   \n",
       "\n",
       "   new rooms separate_bs total_floors  total_space  walk  \n",
       "0    0     2           1            5         36.0     1  \n",
       "1    0     2           1           16         55.0     1  \n",
       "2    0     5           0           12        258.2     1  \n",
       "3    0     1           0            5         17.3     1  \n",
       "4    0     1           0            6         17.3     1  \n",
       "5    1     1           0         None         18.1     1  \n",
       "6    0     1           0            5         18.3     1  \n",
       "7    1     1           0         None         18.3     1  \n",
       "8    0     1           0            6         23.7     1  \n",
       "9    1     1           0         None         23.7     1  "
      ]
     },
     "execution_count": 175,
     "metadata": {},
     "output_type": "execute_result"
    }
   ],
   "source": [
    "Data"
   ]
  },
  {
   "cell_type": "code",
   "execution_count": 144,
   "metadata": {
    "collapsed": false
   },
   "outputs": [
    {
     "name": "stdout",
     "output_type": "stream",
     "text": [
      "http://www.cian.ru/sale/flat/147897857/\n"
     ]
    }
   ],
   "source": [
    "link = links[1]\n",
    "flat_url = 'http://www.cian.ru/sale/flat/' + str(link) + '/'\n",
    "#flat_url = 'http://www.cian.ru/sale/flat/150531912/' \n",
    "flat_page = requests.get(flat_url)\n",
    "flat_page = flat_page.content\n",
    "flat_page = BeautifulSoup(flat_page, 'lxml')\n",
    "table = html_stripper(flat_page.find('table', attrs = {'class':'object_descr_props'}))\n",
    "print flat_url"
   ]
  },
  {
   "cell_type": "code",
   "execution_count": 93,
   "metadata": {
    "collapsed": false
   },
   "outputs": [],
   "source": [
    "Data = pd.DataFrame()\n",
    "Data = Data.append(TempData, ignore_index=True)"
   ]
  },
  {
   "cell_type": "code",
   "execution_count": null,
   "metadata": {
    "collapsed": true
   },
   "outputs": [],
   "source": []
  },
  {
   "cell_type": "code",
   "execution_count": null,
   "metadata": {
    "collapsed": true
   },
   "outputs": [],
   "source": []
  }
 ],
 "metadata": {
  "anaconda-cloud": {},
  "kernelspec": {
   "display_name": "Python 2",
   "language": "python",
   "name": "python2"
  },
  "language_info": {
   "codemirror_mode": {
    "name": "ipython",
    "version": 2
   },
   "file_extension": ".py",
   "mimetype": "text/x-python",
   "name": "python",
   "nbconvert_exporter": "python",
   "pygments_lexer": "ipython2",
   "version": "2.7.12"
  }
 },
 "nbformat": 4,
 "nbformat_minor": 0
}
