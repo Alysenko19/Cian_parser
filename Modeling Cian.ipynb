{
 "cells": [
  {
   "cell_type": "markdown",
   "metadata": {},
   "source": [
    "# CIAN.ru"
   ]
  },
  {
   "cell_type": "code",
   "execution_count": 1,
   "metadata": {
    "collapsed": true
   },
   "outputs": [],
   "source": [
    "%matplotlib inline\n",
    "import matplotlib.pyplot as plt\n",
    "\n",
    "import os, gc\n",
    "import numpy as np\n",
    "import pandas as pd\n",
    "import seaborn as sns\n",
    "from sklearn.model_selection import cross_val_score,train_test_split\n",
    "\n",
    "from sklearn.metrics import make_scorer, mean_squared_error,  mean_absolute_error\n",
    "from bayes_opt import BayesianOptimization\n"
   ]
  },
  {
   "cell_type": "code",
   "execution_count": 2,
   "metadata": {
    "collapsed": false
   },
   "outputs": [],
   "source": [
    "data = pd.read_csv('Data_cian_full.csv',index_col=0)"
   ]
  },
  {
   "cell_type": "code",
   "execution_count": 3,
   "metadata": {
    "collapsed": false
   },
   "outputs": [
    {
     "data": {
      "text/html": [
       "<div>\n",
       "<table border=\"1\" class=\"dataframe\">\n",
       "  <thead>\n",
       "    <tr style=\"text-align: right;\">\n",
       "      <th></th>\n",
       "      <th>District</th>\n",
       "      <th>Price</th>\n",
       "      <th>Tel</th>\n",
       "      <th>combined_bs</th>\n",
       "      <th>cooking_space</th>\n",
       "      <th>dist</th>\n",
       "      <th>floor</th>\n",
       "      <th>house_type</th>\n",
       "      <th>lat</th>\n",
       "      <th>link</th>\n",
       "      <th>living_space</th>\n",
       "      <th>lon</th>\n",
       "      <th>metro_station</th>\n",
       "      <th>metro_time</th>\n",
       "      <th>new</th>\n",
       "      <th>rooms</th>\n",
       "      <th>separate_bs</th>\n",
       "      <th>total_floors</th>\n",
       "      <th>total_space</th>\n",
       "      <th>walk</th>\n",
       "    </tr>\n",
       "  </thead>\n",
       "  <tbody>\n",
       "    <tr>\n",
       "      <th>0</th>\n",
       "      <td>0</td>\n",
       "      <td>528391080</td>\n",
       "      <td>0</td>\n",
       "      <td>0</td>\n",
       "      <td>NaN</td>\n",
       "      <td>2.720885</td>\n",
       "      <td>8</td>\n",
       "      <td>Else</td>\n",
       "      <td>55.749603</td>\n",
       "      <td>150090567</td>\n",
       "      <td>NaN</td>\n",
       "      <td>37.597872</td>\n",
       "      <td>Арбатская</td>\n",
       "      <td>7.0</td>\n",
       "      <td>0</td>\n",
       "      <td>NaN</td>\n",
       "      <td>0</td>\n",
       "      <td>9.0</td>\n",
       "      <td>399.0</td>\n",
       "      <td>1.0</td>\n",
       "    </tr>\n",
       "    <tr>\n",
       "      <th>1</th>\n",
       "      <td>0</td>\n",
       "      <td>311298500</td>\n",
       "      <td>1</td>\n",
       "      <td>3</td>\n",
       "      <td>NaN</td>\n",
       "      <td>3.512113</td>\n",
       "      <td>5</td>\n",
       "      <td>монолитный</td>\n",
       "      <td>55.757526</td>\n",
       "      <td>150453732</td>\n",
       "      <td>165.0</td>\n",
       "      <td>37.590632</td>\n",
       "      <td>Баррикадная</td>\n",
       "      <td>10.0</td>\n",
       "      <td>0</td>\n",
       "      <td>5.0</td>\n",
       "      <td>0</td>\n",
       "      <td>7.0</td>\n",
       "      <td>200.0</td>\n",
       "      <td>1.0</td>\n",
       "    </tr>\n",
       "    <tr>\n",
       "      <th>2</th>\n",
       "      <td>0</td>\n",
       "      <td>14000000</td>\n",
       "      <td>1</td>\n",
       "      <td>0</td>\n",
       "      <td>8.9</td>\n",
       "      <td>6.482659</td>\n",
       "      <td>5</td>\n",
       "      <td>кирпичный</td>\n",
       "      <td>55.743831</td>\n",
       "      <td>150613273</td>\n",
       "      <td>50.9</td>\n",
       "      <td>37.679835</td>\n",
       "      <td>Римская</td>\n",
       "      <td>5.0</td>\n",
       "      <td>0</td>\n",
       "      <td>3.0</td>\n",
       "      <td>1</td>\n",
       "      <td>5.0</td>\n",
       "      <td>75.5</td>\n",
       "      <td>NaN</td>\n",
       "    </tr>\n",
       "    <tr>\n",
       "      <th>3</th>\n",
       "      <td>0</td>\n",
       "      <td>4403057</td>\n",
       "      <td>0</td>\n",
       "      <td>1</td>\n",
       "      <td>NaN</td>\n",
       "      <td>5.864250</td>\n",
       "      <td>3</td>\n",
       "      <td>Else</td>\n",
       "      <td>55.775753</td>\n",
       "      <td>149031353</td>\n",
       "      <td>22.7</td>\n",
       "      <td>37.671938</td>\n",
       "      <td>Красносельская</td>\n",
       "      <td>6.0</td>\n",
       "      <td>1</td>\n",
       "      <td>1.0</td>\n",
       "      <td>0</td>\n",
       "      <td>NaN</td>\n",
       "      <td>22.7</td>\n",
       "      <td>1.0</td>\n",
       "    </tr>\n",
       "    <tr>\n",
       "      <th>4</th>\n",
       "      <td>0</td>\n",
       "      <td>4814581</td>\n",
       "      <td>0</td>\n",
       "      <td>1</td>\n",
       "      <td>NaN</td>\n",
       "      <td>5.903571</td>\n",
       "      <td>2</td>\n",
       "      <td>Else</td>\n",
       "      <td>55.776294</td>\n",
       "      <td>148567438</td>\n",
       "      <td>NaN</td>\n",
       "      <td>37.672163</td>\n",
       "      <td>Бауманская</td>\n",
       "      <td>5.0</td>\n",
       "      <td>0</td>\n",
       "      <td>1.0</td>\n",
       "      <td>0</td>\n",
       "      <td>5.0</td>\n",
       "      <td>17.3</td>\n",
       "      <td>1.0</td>\n",
       "    </tr>\n",
       "  </tbody>\n",
       "</table>\n",
       "</div>"
      ],
      "text/plain": [
       "   District      Price  Tel  combined_bs  cooking_space      dist  floor  \\\n",
       "0         0  528391080    0            0            NaN  2.720885      8   \n",
       "1         0  311298500    1            3            NaN  3.512113      5   \n",
       "2         0   14000000    1            0            8.9  6.482659      5   \n",
       "3         0    4403057    0            1            NaN  5.864250      3   \n",
       "4         0    4814581    0            1            NaN  5.903571      2   \n",
       "\n",
       "   house_type        lat       link  living_space        lon   metro_station  \\\n",
       "0        Else  55.749603  150090567           NaN  37.597872       Арбатская   \n",
       "1  монолитный  55.757526  150453732         165.0  37.590632     Баррикадная   \n",
       "2   кирпичный  55.743831  150613273          50.9  37.679835         Римская   \n",
       "3        Else  55.775753  149031353          22.7  37.671938  Красносельская   \n",
       "4        Else  55.776294  148567438           NaN  37.672163      Бауманская   \n",
       "\n",
       "   metro_time  new  rooms  separate_bs  total_floors  total_space  walk  \n",
       "0         7.0    0    NaN            0           9.0        399.0   1.0  \n",
       "1        10.0    0    5.0            0           7.0        200.0   1.0  \n",
       "2         5.0    0    3.0            1           5.0         75.5   NaN  \n",
       "3         6.0    1    1.0            0           NaN         22.7   1.0  \n",
       "4         5.0    0    1.0            0           5.0         17.3   1.0  "
      ]
     },
     "execution_count": 3,
     "metadata": {},
     "output_type": "execute_result"
    }
   ],
   "source": [
    "data.head()"
   ]
  },
  {
   "cell_type": "code",
   "execution_count": 4,
   "metadata": {
    "collapsed": false
   },
   "outputs": [
    {
     "data": {
      "text/plain": [
       "0"
      ]
     },
     "execution_count": 4,
     "metadata": {},
     "output_type": "execute_result"
    }
   ],
   "source": [
    "np.sum(data.duplicated())"
   ]
  },
  {
   "cell_type": "code",
   "execution_count": 5,
   "metadata": {
    "collapsed": false
   },
   "outputs": [
    {
     "data": {
      "text/plain": [
       "(4397, 20)"
      ]
     },
     "execution_count": 5,
     "metadata": {},
     "output_type": "execute_result"
    }
   ],
   "source": [
    "data.shape"
   ]
  },
  {
   "cell_type": "code",
   "execution_count": 6,
   "metadata": {
    "collapsed": false
   },
   "outputs": [
    {
     "data": {
      "text/plain": [
       "District            0\n",
       "Price               0\n",
       "Tel                 0\n",
       "combined_bs         0\n",
       "cooking_space     781\n",
       "dist                0\n",
       "floor               0\n",
       "house_type          0\n",
       "lat                 0\n",
       "link                0\n",
       "living_space      444\n",
       "lon                 0\n",
       "metro_station     599\n",
       "metro_time        625\n",
       "new                 0\n",
       "rooms               4\n",
       "separate_bs         0\n",
       "total_floors       68\n",
       "total_space         0\n",
       "walk             2040\n",
       "dtype: int64"
      ]
     },
     "execution_count": 6,
     "metadata": {},
     "output_type": "execute_result"
    }
   ],
   "source": [
    "data.isnull().sum()"
   ]
  },
  {
   "cell_type": "code",
   "execution_count": 7,
   "metadata": {
    "collapsed": false
   },
   "outputs": [],
   "source": [
    "data['walk'] = data['walk'].fillna(0)"
   ]
  },
  {
   "cell_type": "code",
   "execution_count": 8,
   "metadata": {
    "collapsed": true
   },
   "outputs": [],
   "source": [
    "data['metro_station'] = data['metro_station'].fillna('Нет') "
   ]
  },
  {
   "cell_type": "code",
   "execution_count": 9,
   "metadata": {
    "collapsed": false,
    "scrolled": true
   },
   "outputs": [
    {
     "data": {
      "text/plain": [
       "<matplotlib.axes._subplots.AxesSubplot at 0xcbc9710>"
      ]
     },
     "execution_count": 9,
     "metadata": {},
     "output_type": "execute_result"
    },
    {
     "data": {
      "image/png": "[encoded data removed]",
      "text/plain": [
       "<matplotlib.figure.Figure at 0xcbaad30>"
      ]
     },
     "metadata": {},
     "output_type": "display_data"
    }
   ],
   "source": [
    "data['metro_time'].hist(bins=30)"
   ]
  },
  {
   "cell_type": "markdown",
   "metadata": {},
   "source": [
    "### Посмотрим квартиры, которые находятся от метро в 40 минутах"
   ]
  },
  {
   "cell_type": "code",
   "execution_count": 10,
   "metadata": {
    "collapsed": false
   },
   "outputs": [
    {
     "data": {
      "text/plain": [
       "769     149796933\n",
       "1508    148356553\n",
       "2110    150396925\n",
       "3084    149626095\n",
       "3459    150818815\n",
       "4014    148445047\n",
       "4348    149544711\n",
       "4393    148848792\n",
       "Name: link, dtype: int64"
      ]
     },
     "execution_count": 10,
     "metadata": {},
     "output_type": "execute_result"
    }
   ],
   "source": [
    "data.ix[data['metro_time']>40,'link']"
   ]
  },
  {
   "cell_type": "markdown",
   "metadata": {},
   "source": [
    "Все норм, это не выбросы"
   ]
  },
  {
   "cell_type": "code",
   "execution_count": 11,
   "metadata": {
    "collapsed": false
   },
   "outputs": [
    {
     "data": {
      "text/plain": [
       "11.065747613997878"
      ]
     },
     "execution_count": 11,
     "metadata": {},
     "output_type": "execute_result"
    }
   ],
   "source": [
    "data['metro_time'].mean()"
   ]
  },
  {
   "cell_type": "code",
   "execution_count": 12,
   "metadata": {
    "collapsed": false
   },
   "outputs": [],
   "source": [
    "data['metro_time_non'] = 0\n",
    "data.loc[data['metro_time'].isnull() ,'metro_time_non'] = 1"
   ]
  },
  {
   "cell_type": "code",
   "execution_count": 13,
   "metadata": {
    "collapsed": true
   },
   "outputs": [],
   "source": [
    "data['metro_time'] = data['metro_time'].fillna(data['metro_time'].mean()) "
   ]
  },
  {
   "cell_type": "code",
   "execution_count": 14,
   "metadata": {
    "collapsed": false
   },
   "outputs": [
    {
     "data": {
      "text/plain": [
       "<matplotlib.axes._subplots.AxesSubplot at 0xcf2e160>"
      ]
     },
     "execution_count": 14,
     "metadata": {},
     "output_type": "execute_result"
    },
    {
     "data": {
      "image/png": "[encoded data removed]",
      "text/plain": [
       "<matplotlib.figure.Figure at 0xce25f60>"
      ]
     },
     "metadata": {},
     "output_type": "display_data"
    }
   ],
   "source": [
    "data['rooms'].hist()"
   ]
  },
  {
   "cell_type": "code",
   "execution_count": 15,
   "metadata": {
    "collapsed": false
   },
   "outputs": [
    {
     "data": {
      "text/plain": [
       "0       150090567\n",
       "422      32637436\n",
       "1336    149212457\n",
       "3298      2914190\n",
       "Name: link, dtype: int64"
      ]
     },
     "execution_count": 15,
     "metadata": {},
     "output_type": "execute_result"
    }
   ],
   "source": [
    "data.ix[data['rooms'].isnull(),'link']"
   ]
  },
  {
   "cell_type": "code",
   "execution_count": 16,
   "metadata": {
    "collapsed": true
   },
   "outputs": [],
   "source": [
    "data['rooms'] = data['rooms'].fillna(6)"
   ]
  },
  {
   "cell_type": "code",
   "execution_count": 17,
   "metadata": {
    "collapsed": false
   },
   "outputs": [
    {
     "data": {
      "text/plain": [
       "<matplotlib.axes._subplots.AxesSubplot at 0xd0ac780>"
      ]
     },
     "execution_count": 17,
     "metadata": {},
     "output_type": "execute_result"
    },
    {
     "data": {
      "image/png": "[encoded data removed]",
      "text/plain": [
       "<matplotlib.figure.Figure at 0xd2085f8>"
      ]
     },
     "metadata": {},
     "output_type": "display_data"
    }
   ],
   "source": [
    "data['total_floors'].hist(bins=50) "
   ]
  },
  {
   "cell_type": "code",
   "execution_count": 18,
   "metadata": {
    "collapsed": true
   },
   "outputs": [],
   "source": [
    "data['total_floors_non'] = 0\n",
    "data.loc[data['total_floors'].isnull() ,'total_floors_non'] = 1\n",
    "data['total_floors'] = data['total_floors'].fillna(data['total_floors'].mean()) "
   ]
  },
  {
   "cell_type": "code",
   "execution_count": 19,
   "metadata": {
    "collapsed": true
   },
   "outputs": [],
   "source": [
    "data['living_space_non'] = 0\n",
    "data.loc[data['living_space'].isnull() ,'living_space_non'] = 1\n",
    "data['living_space'] = data['living_space'].fillna(data['living_space'].mean())"
   ]
  },
  {
   "cell_type": "code",
   "execution_count": 20,
   "metadata": {
    "collapsed": true
   },
   "outputs": [],
   "source": [
    "data['cooking_space_non'] = 0\n",
    "data.loc[data['cooking_space'].isnull() ,'cooking_space_non'] = 1\n",
    "data['cooking_space'] = data['cooking_space'].fillna(data['cooking_space'].mean())"
   ]
  },
  {
   "cell_type": "code",
   "execution_count": 21,
   "metadata": {
    "collapsed": false
   },
   "outputs": [
    {
     "name": "stdout",
     "output_type": "stream",
     "text": [
      "District  12\n",
      "Price  1801\n",
      "Tel  2\n",
      "combined_bs  5\n",
      "cooking_space  188\n",
      "dist  2733\n",
      "floor  41\n",
      "house_type  7\n",
      "lat  2677\n",
      "link  4397\n",
      "living_space  473\n",
      "lon  2663\n",
      "metro_station  175\n",
      "metro_time  37\n",
      "new  2\n",
      "rooms  6\n",
      "separate_bs  5\n",
      "total_floors  56\n",
      "total_space  666\n",
      "walk  2\n",
      "metro_time_non  2\n",
      "total_floors_non  2\n",
      "living_space_non  2\n",
      "cooking_space_non  2\n"
     ]
    }
   ],
   "source": [
    "def num_cat(data):\n",
    "    for name in data.columns:\n",
    "        print(str(name) + '  '+ str(data[name].nunique()))\n",
    "#Количество уникальных значений\n",
    "num_cat(data)"
   ]
  },
  {
   "cell_type": "code",
   "execution_count": 22,
   "metadata": {
    "collapsed": false
   },
   "outputs": [
    {
     "data": {
      "text/plain": [
       "0L"
      ]
     },
     "execution_count": 22,
     "metadata": {},
     "output_type": "execute_result"
    }
   ],
   "source": [
    "data.isnull().sum().sum()"
   ]
  },
  {
   "cell_type": "code",
   "execution_count": 24,
   "metadata": {
    "collapsed": false
   },
   "outputs": [
    {
     "data": {
      "text/html": [
       "<div>\n",
       "<table border=\"1\" class=\"dataframe\">\n",
       "  <thead>\n",
       "    <tr style=\"text-align: right;\">\n",
       "      <th></th>\n",
       "      <th>District</th>\n",
       "      <th>Price</th>\n",
       "      <th>Tel</th>\n",
       "      <th>combined_bs</th>\n",
       "      <th>cooking_space</th>\n",
       "      <th>dist</th>\n",
       "      <th>floor</th>\n",
       "      <th>house_type</th>\n",
       "      <th>lat</th>\n",
       "      <th>link</th>\n",
       "      <th>...</th>\n",
       "      <th>new</th>\n",
       "      <th>rooms</th>\n",
       "      <th>separate_bs</th>\n",
       "      <th>total_floors</th>\n",
       "      <th>total_space</th>\n",
       "      <th>walk</th>\n",
       "      <th>metro_time_non</th>\n",
       "      <th>total_floors_non</th>\n",
       "      <th>living_space_non</th>\n",
       "      <th>cooking_space_non</th>\n",
       "    </tr>\n",
       "  </thead>\n",
       "  <tbody>\n",
       "    <tr>\n",
       "      <th>0</th>\n",
       "      <td>0</td>\n",
       "      <td>528391080</td>\n",
       "      <td>0</td>\n",
       "      <td>0</td>\n",
       "      <td>9.011864</td>\n",
       "      <td>2.720885</td>\n",
       "      <td>8</td>\n",
       "      <td>Else</td>\n",
       "      <td>55.749603</td>\n",
       "      <td>150090567</td>\n",
       "      <td>...</td>\n",
       "      <td>0</td>\n",
       "      <td>6.0</td>\n",
       "      <td>0</td>\n",
       "      <td>9.00000</td>\n",
       "      <td>399.0</td>\n",
       "      <td>1.0</td>\n",
       "      <td>0</td>\n",
       "      <td>0</td>\n",
       "      <td>1</td>\n",
       "      <td>1</td>\n",
       "    </tr>\n",
       "    <tr>\n",
       "      <th>1</th>\n",
       "      <td>0</td>\n",
       "      <td>311298500</td>\n",
       "      <td>1</td>\n",
       "      <td>3</td>\n",
       "      <td>9.011864</td>\n",
       "      <td>3.512113</td>\n",
       "      <td>5</td>\n",
       "      <td>монолитный</td>\n",
       "      <td>55.757526</td>\n",
       "      <td>150453732</td>\n",
       "      <td>...</td>\n",
       "      <td>0</td>\n",
       "      <td>5.0</td>\n",
       "      <td>0</td>\n",
       "      <td>7.00000</td>\n",
       "      <td>200.0</td>\n",
       "      <td>1.0</td>\n",
       "      <td>0</td>\n",
       "      <td>0</td>\n",
       "      <td>0</td>\n",
       "      <td>1</td>\n",
       "    </tr>\n",
       "    <tr>\n",
       "      <th>2</th>\n",
       "      <td>0</td>\n",
       "      <td>14000000</td>\n",
       "      <td>1</td>\n",
       "      <td>0</td>\n",
       "      <td>8.900000</td>\n",
       "      <td>6.482659</td>\n",
       "      <td>5</td>\n",
       "      <td>кирпичный</td>\n",
       "      <td>55.743831</td>\n",
       "      <td>150613273</td>\n",
       "      <td>...</td>\n",
       "      <td>0</td>\n",
       "      <td>3.0</td>\n",
       "      <td>1</td>\n",
       "      <td>5.00000</td>\n",
       "      <td>75.5</td>\n",
       "      <td>0.0</td>\n",
       "      <td>0</td>\n",
       "      <td>0</td>\n",
       "      <td>0</td>\n",
       "      <td>0</td>\n",
       "    </tr>\n",
       "    <tr>\n",
       "      <th>3</th>\n",
       "      <td>0</td>\n",
       "      <td>4403057</td>\n",
       "      <td>0</td>\n",
       "      <td>1</td>\n",
       "      <td>9.011864</td>\n",
       "      <td>5.864250</td>\n",
       "      <td>3</td>\n",
       "      <td>Else</td>\n",
       "      <td>55.775753</td>\n",
       "      <td>149031353</td>\n",
       "      <td>...</td>\n",
       "      <td>1</td>\n",
       "      <td>1.0</td>\n",
       "      <td>0</td>\n",
       "      <td>13.96535</td>\n",
       "      <td>22.7</td>\n",
       "      <td>1.0</td>\n",
       "      <td>0</td>\n",
       "      <td>1</td>\n",
       "      <td>0</td>\n",
       "      <td>1</td>\n",
       "    </tr>\n",
       "    <tr>\n",
       "      <th>4</th>\n",
       "      <td>0</td>\n",
       "      <td>4814581</td>\n",
       "      <td>0</td>\n",
       "      <td>1</td>\n",
       "      <td>9.011864</td>\n",
       "      <td>5.903571</td>\n",
       "      <td>2</td>\n",
       "      <td>Else</td>\n",
       "      <td>55.776294</td>\n",
       "      <td>148567438</td>\n",
       "      <td>...</td>\n",
       "      <td>0</td>\n",
       "      <td>1.0</td>\n",
       "      <td>0</td>\n",
       "      <td>5.00000</td>\n",
       "      <td>17.3</td>\n",
       "      <td>1.0</td>\n",
       "      <td>0</td>\n",
       "      <td>0</td>\n",
       "      <td>1</td>\n",
       "      <td>1</td>\n",
       "    </tr>\n",
       "  </tbody>\n",
       "</table>\n",
       "<p>5 rows × 24 columns</p>\n",
       "</div>"
      ],
      "text/plain": [
       "   District      Price  Tel  combined_bs  cooking_space      dist  floor  \\\n",
       "0         0  528391080    0            0       9.011864  2.720885      8   \n",
       "1         0  311298500    1            3       9.011864  3.512113      5   \n",
       "2         0   14000000    1            0       8.900000  6.482659      5   \n",
       "3         0    4403057    0            1       9.011864  5.864250      3   \n",
       "4         0    4814581    0            1       9.011864  5.903571      2   \n",
       "\n",
       "   house_type        lat       link        ...          new  rooms  \\\n",
       "0        Else  55.749603  150090567        ...            0    6.0   \n",
       "1  монолитный  55.757526  150453732        ...            0    5.0   \n",
       "2   кирпичный  55.743831  150613273        ...            0    3.0   \n",
       "3        Else  55.775753  149031353        ...            1    1.0   \n",
       "4        Else  55.776294  148567438        ...            0    1.0   \n",
       "\n",
       "  separate_bs  total_floors  total_space  walk  metro_time_non  \\\n",
       "0           0       9.00000        399.0   1.0               0   \n",
       "1           0       7.00000        200.0   1.0               0   \n",
       "2           1       5.00000         75.5   0.0               0   \n",
       "3           0      13.96535         22.7   1.0               0   \n",
       "4           0       5.00000         17.3   1.0               0   \n",
       "\n",
       "   total_floors_non  living_space_non  cooking_space_non  \n",
       "0                 0                 1                  1  \n",
       "1                 0                 0                  1  \n",
       "2                 0                 0                  0  \n",
       "3                 1                 0                  1  \n",
       "4                 0                 1                  1  \n",
       "\n",
       "[5 rows x 24 columns]"
      ]
     },
     "execution_count": 24,
     "metadata": {},
     "output_type": "execute_result"
    }
   ],
   "source": [
    "data.head()"
   ]
  },
  {
   "cell_type": "code",
   "execution_count": 15,
   "metadata": {
    "collapsed": false
   },
   "outputs": [
    {
     "data": {
      "text/plain": [
       "<matplotlib.axes._subplots.AxesSubplot at 0xcb920b8>"
      ]
     },
     "execution_count": 15,
     "metadata": {},
     "output_type": "execute_result"
    },
    {
     "data": {
      "image/png": "[encoded data removed]",
      "text/plain": [
       "<matplotlib.figure.Figure at 0xd3771d0>"
      ]
     },
     "metadata": {},
     "output_type": "display_data"
    }
   ],
   "source": [
    "(data['Price']**0.25).hist(bins=50)"
   ]
  },
  {
   "cell_type": "code",
   "execution_count": 16,
   "metadata": {
    "collapsed": false
   },
   "outputs": [
    {
     "data": {
      "text/html": [
       "<div>\n",
       "<table border=\"1\" class=\"dataframe\">\n",
       "  <thead>\n",
       "    <tr style=\"text-align: right;\">\n",
       "      <th></th>\n",
       "      <th>District</th>\n",
       "      <th>Price</th>\n",
       "      <th>Tel</th>\n",
       "      <th>combined_bs</th>\n",
       "      <th>cooking_space</th>\n",
       "      <th>dist</th>\n",
       "      <th>floor</th>\n",
       "      <th>lat</th>\n",
       "      <th>link</th>\n",
       "      <th>living_space</th>\n",
       "      <th>lon</th>\n",
       "      <th>metro_time</th>\n",
       "      <th>new</th>\n",
       "      <th>rooms</th>\n",
       "      <th>separate_bs</th>\n",
       "      <th>total_floors</th>\n",
       "      <th>total_space</th>\n",
       "      <th>walk</th>\n",
       "    </tr>\n",
       "  </thead>\n",
       "  <tbody>\n",
       "    <tr>\n",
       "      <th>count</th>\n",
       "      <td>4397.000000</td>\n",
       "      <td>4.397000e+03</td>\n",
       "      <td>4397.000000</td>\n",
       "      <td>4397.000000</td>\n",
       "      <td>3616.000000</td>\n",
       "      <td>4397.000000</td>\n",
       "      <td>4397.000000</td>\n",
       "      <td>4397.000000</td>\n",
       "      <td>4.397000e+03</td>\n",
       "      <td>3953.000000</td>\n",
       "      <td>4397.000000</td>\n",
       "      <td>3772.000000</td>\n",
       "      <td>4397.000000</td>\n",
       "      <td>4393.000000</td>\n",
       "      <td>4397.000000</td>\n",
       "      <td>4329.000000</td>\n",
       "      <td>4397.000000</td>\n",
       "      <td>2357.0</td>\n",
       "    </tr>\n",
       "    <tr>\n",
       "      <th>mean</th>\n",
       "      <td>4.505572</td>\n",
       "      <td>9.910454e+06</td>\n",
       "      <td>0.344326</td>\n",
       "      <td>0.571071</td>\n",
       "      <td>9.011864</td>\n",
       "      <td>17.160947</td>\n",
       "      <td>7.084603</td>\n",
       "      <td>55.727852</td>\n",
       "      <td>1.419186e+08</td>\n",
       "      <td>28.411485</td>\n",
       "      <td>37.565066</td>\n",
       "      <td>11.065748</td>\n",
       "      <td>0.292700</td>\n",
       "      <td>1.582518</td>\n",
       "      <td>0.389356</td>\n",
       "      <td>13.965350</td>\n",
       "      <td>47.985490</td>\n",
       "      <td>1.0</td>\n",
       "    </tr>\n",
       "    <tr>\n",
       "      <th>std</th>\n",
       "      <td>3.151581</td>\n",
       "      <td>1.900881e+07</td>\n",
       "      <td>0.475202</td>\n",
       "      <td>0.558465</td>\n",
       "      <td>4.194752</td>\n",
       "      <td>10.517870</td>\n",
       "      <td>5.920011</td>\n",
       "      <td>0.107955</td>\n",
       "      <td>2.785309e+07</td>\n",
       "      <td>17.604585</td>\n",
       "      <td>0.147533</td>\n",
       "      <td>6.342385</td>\n",
       "      <td>0.455053</td>\n",
       "      <td>0.768864</td>\n",
       "      <td>0.535675</td>\n",
       "      <td>8.352073</td>\n",
       "      <td>25.924701</td>\n",
       "      <td>0.0</td>\n",
       "    </tr>\n",
       "    <tr>\n",
       "      <th>min</th>\n",
       "      <td>0.000000</td>\n",
       "      <td>1.380000e+06</td>\n",
       "      <td>0.000000</td>\n",
       "      <td>0.000000</td>\n",
       "      <td>1.000000</td>\n",
       "      <td>1.151341</td>\n",
       "      <td>1.000000</td>\n",
       "      <td>55.214892</td>\n",
       "      <td>1.861247e+06</td>\n",
       "      <td>1.000000</td>\n",
       "      <td>36.848282</td>\n",
       "      <td>1.000000</td>\n",
       "      <td>0.000000</td>\n",
       "      <td>1.000000</td>\n",
       "      <td>0.000000</td>\n",
       "      <td>1.000000</td>\n",
       "      <td>13.000000</td>\n",
       "      <td>1.0</td>\n",
       "    </tr>\n",
       "    <tr>\n",
       "      <th>25%</th>\n",
       "      <td>2.000000</td>\n",
       "      <td>5.290000e+06</td>\n",
       "      <td>0.000000</td>\n",
       "      <td>0.000000</td>\n",
       "      <td>6.000000</td>\n",
       "      <td>9.691749</td>\n",
       "      <td>3.000000</td>\n",
       "      <td>55.651029</td>\n",
       "      <td>1.488710e+08</td>\n",
       "      <td>19.000000</td>\n",
       "      <td>37.475528</td>\n",
       "      <td>6.000000</td>\n",
       "      <td>0.000000</td>\n",
       "      <td>1.000000</td>\n",
       "      <td>0.000000</td>\n",
       "      <td>8.000000</td>\n",
       "      <td>36.000000</td>\n",
       "      <td>1.0</td>\n",
       "    </tr>\n",
       "    <tr>\n",
       "      <th>50%</th>\n",
       "      <td>5.000000</td>\n",
       "      <td>6.603800e+06</td>\n",
       "      <td>0.000000</td>\n",
       "      <td>1.000000</td>\n",
       "      <td>8.250000</td>\n",
       "      <td>16.057230</td>\n",
       "      <td>5.000000</td>\n",
       "      <td>55.738262</td>\n",
       "      <td>1.498933e+08</td>\n",
       "      <td>22.500000</td>\n",
       "      <td>37.561293</td>\n",
       "      <td>10.000000</td>\n",
       "      <td>0.000000</td>\n",
       "      <td>1.000000</td>\n",
       "      <td>0.000000</td>\n",
       "      <td>12.000000</td>\n",
       "      <td>41.800000</td>\n",
       "      <td>1.0</td>\n",
       "    </tr>\n",
       "    <tr>\n",
       "      <th>75%</th>\n",
       "      <td>7.000000</td>\n",
       "      <td>9.000000e+06</td>\n",
       "      <td>1.000000</td>\n",
       "      <td>1.000000</td>\n",
       "      <td>10.000000</td>\n",
       "      <td>22.285357</td>\n",
       "      <td>10.000000</td>\n",
       "      <td>55.811295</td>\n",
       "      <td>1.504884e+08</td>\n",
       "      <td>32.000000</td>\n",
       "      <td>37.656092</td>\n",
       "      <td>15.000000</td>\n",
       "      <td>1.000000</td>\n",
       "      <td>2.000000</td>\n",
       "      <td>1.000000</td>\n",
       "      <td>17.000000</td>\n",
       "      <td>53.000000</td>\n",
       "      <td>1.0</td>\n",
       "    </tr>\n",
       "    <tr>\n",
       "      <th>max</th>\n",
       "      <td>11.000000</td>\n",
       "      <td>5.283911e+08</td>\n",
       "      <td>1.000000</td>\n",
       "      <td>4.000000</td>\n",
       "      <td>55.500000</td>\n",
       "      <td>91.077575</td>\n",
       "      <td>46.000000</td>\n",
       "      <td>56.002813</td>\n",
       "      <td>1.508224e+08</td>\n",
       "      <td>300.000000</td>\n",
       "      <td>37.940921</td>\n",
       "      <td>72.000000</td>\n",
       "      <td>1.000000</td>\n",
       "      <td>5.000000</td>\n",
       "      <td>4.000000</td>\n",
       "      <td>86.000000</td>\n",
       "      <td>505.000000</td>\n",
       "      <td>1.0</td>\n",
       "    </tr>\n",
       "  </tbody>\n",
       "</table>\n",
       "</div>"
      ],
      "text/plain": [
       "          District         Price          Tel  combined_bs  cooking_space  \\\n",
       "count  4397.000000  4.397000e+03  4397.000000  4397.000000    3616.000000   \n",
       "mean      4.505572  9.910454e+06     0.344326     0.571071       9.011864   \n",
       "std       3.151581  1.900881e+07     0.475202     0.558465       4.194752   \n",
       "min       0.000000  1.380000e+06     0.000000     0.000000       1.000000   \n",
       "25%       2.000000  5.290000e+06     0.000000     0.000000       6.000000   \n",
       "50%       5.000000  6.603800e+06     0.000000     1.000000       8.250000   \n",
       "75%       7.000000  9.000000e+06     1.000000     1.000000      10.000000   \n",
       "max      11.000000  5.283911e+08     1.000000     4.000000      55.500000   \n",
       "\n",
       "              dist        floor          lat          link  living_space  \\\n",
       "count  4397.000000  4397.000000  4397.000000  4.397000e+03   3953.000000   \n",
       "mean     17.160947     7.084603    55.727852  1.419186e+08     28.411485   \n",
       "std      10.517870     5.920011     0.107955  2.785309e+07     17.604585   \n",
       "min       1.151341     1.000000    55.214892  1.861247e+06      1.000000   \n",
       "25%       9.691749     3.000000    55.651029  1.488710e+08     19.000000   \n",
       "50%      16.057230     5.000000    55.738262  1.498933e+08     22.500000   \n",
       "75%      22.285357    10.000000    55.811295  1.504884e+08     32.000000   \n",
       "max      91.077575    46.000000    56.002813  1.508224e+08    300.000000   \n",
       "\n",
       "               lon   metro_time          new        rooms  separate_bs  \\\n",
       "count  4397.000000  3772.000000  4397.000000  4393.000000  4397.000000   \n",
       "mean     37.565066    11.065748     0.292700     1.582518     0.389356   \n",
       "std       0.147533     6.342385     0.455053     0.768864     0.535675   \n",
       "min      36.848282     1.000000     0.000000     1.000000     0.000000   \n",
       "25%      37.475528     6.000000     0.000000     1.000000     0.000000   \n",
       "50%      37.561293    10.000000     0.000000     1.000000     0.000000   \n",
       "75%      37.656092    15.000000     1.000000     2.000000     1.000000   \n",
       "max      37.940921    72.000000     1.000000     5.000000     4.000000   \n",
       "\n",
       "       total_floors  total_space    walk  \n",
       "count   4329.000000  4397.000000  2357.0  \n",
       "mean      13.965350    47.985490     1.0  \n",
       "std        8.352073    25.924701     0.0  \n",
       "min        1.000000    13.000000     1.0  \n",
       "25%        8.000000    36.000000     1.0  \n",
       "50%       12.000000    41.800000     1.0  \n",
       "75%       17.000000    53.000000     1.0  \n",
       "max       86.000000   505.000000     1.0  "
      ]
     },
     "execution_count": 16,
     "metadata": {},
     "output_type": "execute_result"
    }
   ],
   "source": [
    "data.describe()"
   ]
  },
  {
   "cell_type": "code",
   "execution_count": 17,
   "metadata": {
    "collapsed": false
   },
   "outputs": [
    {
     "data": {
      "text/plain": [
       "<matplotlib.axes._subplots.AxesSubplot at 0xe6162b0>"
      ]
     },
     "execution_count": 17,
     "metadata": {},
     "output_type": "execute_result"
    },
    {
     "data": {
      "image/png": "[encoded data removed]",
      "text/plain": [
       "<matplotlib.figure.Figure at 0xe69e0f0>"
      ]
     },
     "metadata": {},
     "output_type": "display_data"
    }
   ],
   "source": [
    "corr = abs(data.corr())\n",
    "sns.heatmap(corr, \n",
    "            xticklabels=corr.columns.values,\n",
    "            yticklabels=corr.columns.values, annot=False, cmap='YlGnBu')"
   ]
  },
  {
   "cell_type": "markdown",
   "metadata": {},
   "source": [
    "Сохраним обработанные данные"
   ]
  },
  {
   "cell_type": "code",
   "execution_count": 27,
   "metadata": {
    "collapsed": false
   },
   "outputs": [],
   "source": [
    "data.to_csv('Data_cian_full_finished.csv')"
   ]
  },
  {
   "cell_type": "markdown",
   "metadata": {},
   "source": [
    "Загрузим обработанные данные"
   ]
  },
  {
   "cell_type": "code",
   "execution_count": 8,
   "metadata": {
    "collapsed": true
   },
   "outputs": [],
   "source": [
    "data = pd.read_csv('Data_cian_full_finished.csv',index_col=0)"
   ]
  },
  {
   "cell_type": "code",
   "execution_count": 9,
   "metadata": {
    "collapsed": false
   },
   "outputs": [
    {
     "data": {
      "text/html": [
       "<div>\n",
       "<table border=\"1\" class=\"dataframe\">\n",
       "  <thead>\n",
       "    <tr style=\"text-align: right;\">\n",
       "      <th></th>\n",
       "      <th>District</th>\n",
       "      <th>Price</th>\n",
       "      <th>Tel</th>\n",
       "      <th>combined_bs</th>\n",
       "      <th>cooking_space</th>\n",
       "      <th>dist</th>\n",
       "      <th>floor</th>\n",
       "      <th>house_type</th>\n",
       "      <th>lat</th>\n",
       "      <th>link</th>\n",
       "      <th>...</th>\n",
       "      <th>new</th>\n",
       "      <th>rooms</th>\n",
       "      <th>separate_bs</th>\n",
       "      <th>total_floors</th>\n",
       "      <th>total_space</th>\n",
       "      <th>walk</th>\n",
       "      <th>metro_time_non</th>\n",
       "      <th>total_floors_non</th>\n",
       "      <th>living_space_non</th>\n",
       "      <th>cooking_space_non</th>\n",
       "    </tr>\n",
       "  </thead>\n",
       "  <tbody>\n",
       "    <tr>\n",
       "      <th>0</th>\n",
       "      <td>0</td>\n",
       "      <td>528391080</td>\n",
       "      <td>0</td>\n",
       "      <td>0</td>\n",
       "      <td>9.011864</td>\n",
       "      <td>2.720885</td>\n",
       "      <td>8</td>\n",
       "      <td>Else</td>\n",
       "      <td>55.749603</td>\n",
       "      <td>150090567</td>\n",
       "      <td>...</td>\n",
       "      <td>0</td>\n",
       "      <td>6.0</td>\n",
       "      <td>0</td>\n",
       "      <td>9.00000</td>\n",
       "      <td>399.0</td>\n",
       "      <td>1.0</td>\n",
       "      <td>0</td>\n",
       "      <td>0</td>\n",
       "      <td>1</td>\n",
       "      <td>1</td>\n",
       "    </tr>\n",
       "    <tr>\n",
       "      <th>1</th>\n",
       "      <td>0</td>\n",
       "      <td>311298500</td>\n",
       "      <td>1</td>\n",
       "      <td>3</td>\n",
       "      <td>9.011864</td>\n",
       "      <td>3.512113</td>\n",
       "      <td>5</td>\n",
       "      <td>монолитный</td>\n",
       "      <td>55.757526</td>\n",
       "      <td>150453732</td>\n",
       "      <td>...</td>\n",
       "      <td>0</td>\n",
       "      <td>5.0</td>\n",
       "      <td>0</td>\n",
       "      <td>7.00000</td>\n",
       "      <td>200.0</td>\n",
       "      <td>1.0</td>\n",
       "      <td>0</td>\n",
       "      <td>0</td>\n",
       "      <td>0</td>\n",
       "      <td>1</td>\n",
       "    </tr>\n",
       "    <tr>\n",
       "      <th>2</th>\n",
       "      <td>0</td>\n",
       "      <td>14000000</td>\n",
       "      <td>1</td>\n",
       "      <td>0</td>\n",
       "      <td>8.900000</td>\n",
       "      <td>6.482659</td>\n",
       "      <td>5</td>\n",
       "      <td>кирпичный</td>\n",
       "      <td>55.743831</td>\n",
       "      <td>150613273</td>\n",
       "      <td>...</td>\n",
       "      <td>0</td>\n",
       "      <td>3.0</td>\n",
       "      <td>1</td>\n",
       "      <td>5.00000</td>\n",
       "      <td>75.5</td>\n",
       "      <td>0.0</td>\n",
       "      <td>0</td>\n",
       "      <td>0</td>\n",
       "      <td>0</td>\n",
       "      <td>0</td>\n",
       "    </tr>\n",
       "    <tr>\n",
       "      <th>3</th>\n",
       "      <td>0</td>\n",
       "      <td>4403057</td>\n",
       "      <td>0</td>\n",
       "      <td>1</td>\n",
       "      <td>9.011864</td>\n",
       "      <td>5.864250</td>\n",
       "      <td>3</td>\n",
       "      <td>Else</td>\n",
       "      <td>55.775753</td>\n",
       "      <td>149031353</td>\n",
       "      <td>...</td>\n",
       "      <td>1</td>\n",
       "      <td>1.0</td>\n",
       "      <td>0</td>\n",
       "      <td>13.96535</td>\n",
       "      <td>22.7</td>\n",
       "      <td>1.0</td>\n",
       "      <td>0</td>\n",
       "      <td>1</td>\n",
       "      <td>0</td>\n",
       "      <td>1</td>\n",
       "    </tr>\n",
       "    <tr>\n",
       "      <th>4</th>\n",
       "      <td>0</td>\n",
       "      <td>4814581</td>\n",
       "      <td>0</td>\n",
       "      <td>1</td>\n",
       "      <td>9.011864</td>\n",
       "      <td>5.903571</td>\n",
       "      <td>2</td>\n",
       "      <td>Else</td>\n",
       "      <td>55.776294</td>\n",
       "      <td>148567438</td>\n",
       "      <td>...</td>\n",
       "      <td>0</td>\n",
       "      <td>1.0</td>\n",
       "      <td>0</td>\n",
       "      <td>5.00000</td>\n",
       "      <td>17.3</td>\n",
       "      <td>1.0</td>\n",
       "      <td>0</td>\n",
       "      <td>0</td>\n",
       "      <td>1</td>\n",
       "      <td>1</td>\n",
       "    </tr>\n",
       "  </tbody>\n",
       "</table>\n",
       "<p>5 rows × 24 columns</p>\n",
       "</div>"
      ],
      "text/plain": [
       "   District      Price  Tel  combined_bs  cooking_space      dist  floor  \\\n",
       "0         0  528391080    0            0       9.011864  2.720885      8   \n",
       "1         0  311298500    1            3       9.011864  3.512113      5   \n",
       "2         0   14000000    1            0       8.900000  6.482659      5   \n",
       "3         0    4403057    0            1       9.011864  5.864250      3   \n",
       "4         0    4814581    0            1       9.011864  5.903571      2   \n",
       "\n",
       "   house_type        lat       link        ...          new  rooms  \\\n",
       "0        Else  55.749603  150090567        ...            0    6.0   \n",
       "1  монолитный  55.757526  150453732        ...            0    5.0   \n",
       "2   кирпичный  55.743831  150613273        ...            0    3.0   \n",
       "3        Else  55.775753  149031353        ...            1    1.0   \n",
       "4        Else  55.776294  148567438        ...            0    1.0   \n",
       "\n",
       "  separate_bs  total_floors  total_space  walk  metro_time_non  \\\n",
       "0           0       9.00000        399.0   1.0               0   \n",
       "1           0       7.00000        200.0   1.0               0   \n",
       "2           1       5.00000         75.5   0.0               0   \n",
       "3           0      13.96535         22.7   1.0               0   \n",
       "4           0       5.00000         17.3   1.0               0   \n",
       "\n",
       "   total_floors_non  living_space_non  cooking_space_non  \n",
       "0                 0                 1                  1  \n",
       "1                 0                 0                  1  \n",
       "2                 0                 0                  0  \n",
       "3                 1                 0                  1  \n",
       "4                 0                 1                  1  \n",
       "\n",
       "[5 rows x 24 columns]"
      ]
     },
     "execution_count": 9,
     "metadata": {},
     "output_type": "execute_result"
    }
   ],
   "source": [
    "data.head()"
   ]
  },
  {
   "cell_type": "code",
   "execution_count": 10,
   "metadata": {
    "collapsed": false
   },
   "outputs": [
    {
     "data": {
      "text/plain": [
       "District               int64\n",
       "Price                  int64\n",
       "Tel                    int64\n",
       "combined_bs            int64\n",
       "cooking_space        float64\n",
       "dist                 float64\n",
       "floor                  int64\n",
       "house_type            object\n",
       "lat                  float64\n",
       "link                   int64\n",
       "living_space         float64\n",
       "lon                  float64\n",
       "metro_station         object\n",
       "metro_time           float64\n",
       "new                    int64\n",
       "rooms                float64\n",
       "separate_bs            int64\n",
       "total_floors         float64\n",
       "total_space          float64\n",
       "walk                 float64\n",
       "metro_time_non         int64\n",
       "total_floors_non       int64\n",
       "living_space_non       int64\n",
       "cooking_space_non      int64\n",
       "dtype: object"
      ]
     },
     "execution_count": 10,
     "metadata": {},
     "output_type": "execute_result"
    }
   ],
   "source": [
    "data.dtypes"
   ]
  },
  {
   "cell_type": "markdown",
   "metadata": {},
   "source": [
    "# Линейные Модели"
   ]
  },
  {
   "cell_type": "code",
   "execution_count": 11,
   "metadata": {
    "collapsed": false
   },
   "outputs": [],
   "source": [
    "from sklearn.linear_model import Ridge, LinearRegression, Lasso\n",
    "from sklearn.grid_search import GridSearchCV\n",
    "from sklearn.metrics import mean_absolute_error\n",
    "from sklearn.preprocessing import StandardScaler\n",
    "from sklearn.metrics import make_scorer"
   ]
  },
  {
   "cell_type": "code",
   "execution_count": 12,
   "metadata": {
    "collapsed": false
   },
   "outputs": [
    {
     "data": {
      "text/html": [
       "<div>\n",
       "<table border=\"1\" class=\"dataframe\">\n",
       "  <thead>\n",
       "    <tr style=\"text-align: right;\">\n",
       "      <th></th>\n",
       "      <th>блочный</th>\n",
       "      <th>кирпично-монолитный</th>\n",
       "      <th>кирпичный</th>\n",
       "      <th>монолитный</th>\n",
       "      <th>панельныйдом</th>\n",
       "      <th>сталинский</th>\n",
       "    </tr>\n",
       "  </thead>\n",
       "  <tbody>\n",
       "    <tr>\n",
       "      <th>0</th>\n",
       "      <td>0</td>\n",
       "      <td>0</td>\n",
       "      <td>0</td>\n",
       "      <td>0</td>\n",
       "      <td>0</td>\n",
       "      <td>0</td>\n",
       "    </tr>\n",
       "    <tr>\n",
       "      <th>1</th>\n",
       "      <td>0</td>\n",
       "      <td>0</td>\n",
       "      <td>0</td>\n",
       "      <td>1</td>\n",
       "      <td>0</td>\n",
       "      <td>0</td>\n",
       "    </tr>\n",
       "    <tr>\n",
       "      <th>2</th>\n",
       "      <td>0</td>\n",
       "      <td>0</td>\n",
       "      <td>1</td>\n",
       "      <td>0</td>\n",
       "      <td>0</td>\n",
       "      <td>0</td>\n",
       "    </tr>\n",
       "    <tr>\n",
       "      <th>3</th>\n",
       "      <td>0</td>\n",
       "      <td>0</td>\n",
       "      <td>0</td>\n",
       "      <td>0</td>\n",
       "      <td>0</td>\n",
       "      <td>0</td>\n",
       "    </tr>\n",
       "    <tr>\n",
       "      <th>4</th>\n",
       "      <td>0</td>\n",
       "      <td>0</td>\n",
       "      <td>0</td>\n",
       "      <td>0</td>\n",
       "      <td>0</td>\n",
       "      <td>0</td>\n",
       "    </tr>\n",
       "  </tbody>\n",
       "</table>\n",
       "</div>"
      ],
      "text/plain": [
       "   блочный  кирпично-монолитный  кирпичный  монолитный  панельныйдом  \\\n",
       "0        0                    0          0           0             0   \n",
       "1        0                    0          0           1             0   \n",
       "2        0                    0          1           0             0   \n",
       "3        0                    0          0           0             0   \n",
       "4        0                    0          0           0             0   \n",
       "\n",
       "   сталинский  \n",
       "0           0  \n",
       "1           0  \n",
       "2           0  \n",
       "3           0  \n",
       "4           0  "
      ]
     },
     "execution_count": 12,
     "metadata": {},
     "output_type": "execute_result"
    }
   ],
   "source": [
    "scaled_data = []\n",
    "\n",
    "f_cat = ['metro_station','house_type']\n",
    "for f in f_cat:\n",
    "    dummy = pd.get_dummies(data[f].astype('category'), drop_first=True)\n",
    "\n",
    "dummy.head()    \n"
   ]
  },
  {
   "cell_type": "code",
   "execution_count": 13,
   "metadata": {
    "collapsed": false
   },
   "outputs": [],
   "source": [
    "dummy.columns = [ u'блочный', u'кирпично-монолитный', u'кирпичный', u'монолитный', u'панельныйдом', u'сталинский']"
   ]
  },
  {
   "cell_type": "code",
   "execution_count": 14,
   "metadata": {
    "collapsed": true
   },
   "outputs": [],
   "source": [
    "y = 1.0*data['Price']"
   ]
  },
  {
   "cell_type": "code",
   "execution_count": 15,
   "metadata": {
    "collapsed": false
   },
   "outputs": [
    {
     "data": {
      "text/html": [
       "<div>\n",
       "<table border=\"1\" class=\"dataframe\">\n",
       "  <thead>\n",
       "    <tr style=\"text-align: right;\">\n",
       "      <th></th>\n",
       "      <th>District</th>\n",
       "      <th>Tel</th>\n",
       "      <th>combined_bs</th>\n",
       "      <th>cooking_space</th>\n",
       "      <th>dist</th>\n",
       "      <th>floor</th>\n",
       "      <th>house_type</th>\n",
       "      <th>lat</th>\n",
       "      <th>living_space</th>\n",
       "      <th>lon</th>\n",
       "      <th>...</th>\n",
       "      <th>new</th>\n",
       "      <th>rooms</th>\n",
       "      <th>separate_bs</th>\n",
       "      <th>total_floors</th>\n",
       "      <th>total_space</th>\n",
       "      <th>walk</th>\n",
       "      <th>metro_time_non</th>\n",
       "      <th>total_floors_non</th>\n",
       "      <th>living_space_non</th>\n",
       "      <th>cooking_space_non</th>\n",
       "    </tr>\n",
       "  </thead>\n",
       "  <tbody>\n",
       "    <tr>\n",
       "      <th>0</th>\n",
       "      <td>-1.429785</td>\n",
       "      <td>-0.724671</td>\n",
       "      <td>-1.022689</td>\n",
       "      <td>-6.692589e-13</td>\n",
       "      <td>-1.373064</td>\n",
       "      <td>0.154645</td>\n",
       "      <td>Else</td>\n",
       "      <td>0.201502</td>\n",
       "      <td>-2.189742e-12</td>\n",
       "      <td>0.222387</td>\n",
       "      <td>...</td>\n",
       "      <td>-0.643293</td>\n",
       "      <td>5.659146</td>\n",
       "      <td>-0.726935</td>\n",
       "      <td>-5.992254e-01</td>\n",
       "      <td>13.541311</td>\n",
       "      <td>0.930326</td>\n",
       "      <td>-0.407056</td>\n",
       "      <td>-0.125332</td>\n",
       "      <td>2.983815</td>\n",
       "      <td>2.151735</td>\n",
       "    </tr>\n",
       "    <tr>\n",
       "      <th>1</th>\n",
       "      <td>-1.429785</td>\n",
       "      <td>1.379937</td>\n",
       "      <td>4.349786</td>\n",
       "      <td>-6.692589e-13</td>\n",
       "      <td>-1.297828</td>\n",
       "      <td>-0.352168</td>\n",
       "      <td>монолитный</td>\n",
       "      <td>0.274902</td>\n",
       "      <td>8.183860e+00</td>\n",
       "      <td>0.173308</td>\n",
       "      <td>...</td>\n",
       "      <td>-0.643293</td>\n",
       "      <td>4.376900</td>\n",
       "      <td>-0.726935</td>\n",
       "      <td>-8.405882e-01</td>\n",
       "      <td>5.864361</td>\n",
       "      <td>0.930326</td>\n",
       "      <td>-0.407056</td>\n",
       "      <td>-0.125332</td>\n",
       "      <td>-0.335141</td>\n",
       "      <td>2.151735</td>\n",
       "    </tr>\n",
       "    <tr>\n",
       "      <th>2</th>\n",
       "      <td>-1.429785</td>\n",
       "      <td>1.379937</td>\n",
       "      <td>-1.022689</td>\n",
       "      <td>-2.941087e-02</td>\n",
       "      <td>-1.015367</td>\n",
       "      <td>-0.352168</td>\n",
       "      <td>кирпичный</td>\n",
       "      <td>0.148029</td>\n",
       "      <td>1.347426e+00</td>\n",
       "      <td>0.778009</td>\n",
       "      <td>...</td>\n",
       "      <td>-0.643293</td>\n",
       "      <td>1.812408</td>\n",
       "      <td>1.140081</td>\n",
       "      <td>-1.081951e+00</td>\n",
       "      <td>1.061445</td>\n",
       "      <td>-1.074892</td>\n",
       "      <td>-0.407056</td>\n",
       "      <td>-0.125332</td>\n",
       "      <td>-0.335141</td>\n",
       "      <td>-0.464741</td>\n",
       "    </tr>\n",
       "    <tr>\n",
       "      <th>3</th>\n",
       "      <td>-1.429785</td>\n",
       "      <td>-0.724671</td>\n",
       "      <td>0.768136</td>\n",
       "      <td>-6.692589e-13</td>\n",
       "      <td>-1.074170</td>\n",
       "      <td>-0.690044</td>\n",
       "      <td>Else</td>\n",
       "      <td>0.443760</td>\n",
       "      <td>-3.422103e-01</td>\n",
       "      <td>0.724476</td>\n",
       "      <td>...</td>\n",
       "      <td>1.554501</td>\n",
       "      <td>-0.752084</td>\n",
       "      <td>-0.726935</td>\n",
       "      <td>-5.936638e-12</td>\n",
       "      <td>-0.975454</td>\n",
       "      <td>0.930326</td>\n",
       "      <td>-0.407056</td>\n",
       "      <td>7.978832</td>\n",
       "      <td>-0.335141</td>\n",
       "      <td>2.151735</td>\n",
       "    </tr>\n",
       "    <tr>\n",
       "      <th>4</th>\n",
       "      <td>-1.429785</td>\n",
       "      <td>-0.724671</td>\n",
       "      <td>0.768136</td>\n",
       "      <td>-6.692589e-13</td>\n",
       "      <td>-1.070431</td>\n",
       "      <td>-0.858982</td>\n",
       "      <td>Else</td>\n",
       "      <td>0.448772</td>\n",
       "      <td>-2.189742e-12</td>\n",
       "      <td>0.726001</td>\n",
       "      <td>...</td>\n",
       "      <td>-0.643293</td>\n",
       "      <td>-0.752084</td>\n",
       "      <td>-0.726935</td>\n",
       "      <td>-1.081951e+00</td>\n",
       "      <td>-1.183774</td>\n",
       "      <td>0.930326</td>\n",
       "      <td>-0.407056</td>\n",
       "      <td>-0.125332</td>\n",
       "      <td>2.983815</td>\n",
       "      <td>2.151735</td>\n",
       "    </tr>\n",
       "  </tbody>\n",
       "</table>\n",
       "<p>5 rows × 22 columns</p>\n",
       "</div>"
      ],
      "text/plain": [
       "   District       Tel  combined_bs  cooking_space      dist     floor  \\\n",
       "0 -1.429785 -0.724671    -1.022689  -6.692589e-13 -1.373064  0.154645   \n",
       "1 -1.429785  1.379937     4.349786  -6.692589e-13 -1.297828 -0.352168   \n",
       "2 -1.429785  1.379937    -1.022689  -2.941087e-02 -1.015367 -0.352168   \n",
       "3 -1.429785 -0.724671     0.768136  -6.692589e-13 -1.074170 -0.690044   \n",
       "4 -1.429785 -0.724671     0.768136  -6.692589e-13 -1.070431 -0.858982   \n",
       "\n",
       "   house_type       lat  living_space       lon        ...               new  \\\n",
       "0        Else  0.201502 -2.189742e-12  0.222387        ...         -0.643293   \n",
       "1  монолитный  0.274902  8.183860e+00  0.173308        ...         -0.643293   \n",
       "2   кирпичный  0.148029  1.347426e+00  0.778009        ...         -0.643293   \n",
       "3        Else  0.443760 -3.422103e-01  0.724476        ...          1.554501   \n",
       "4        Else  0.448772 -2.189742e-12  0.726001        ...         -0.643293   \n",
       "\n",
       "      rooms  separate_bs  total_floors  total_space      walk  metro_time_non  \\\n",
       "0  5.659146    -0.726935 -5.992254e-01    13.541311  0.930326       -0.407056   \n",
       "1  4.376900    -0.726935 -8.405882e-01     5.864361  0.930326       -0.407056   \n",
       "2  1.812408     1.140081 -1.081951e+00     1.061445 -1.074892       -0.407056   \n",
       "3 -0.752084    -0.726935 -5.936638e-12    -0.975454  0.930326       -0.407056   \n",
       "4 -0.752084    -0.726935 -1.081951e+00    -1.183774  0.930326       -0.407056   \n",
       "\n",
       "   total_floors_non  living_space_non  cooking_space_non  \n",
       "0         -0.125332          2.983815           2.151735  \n",
       "1         -0.125332         -0.335141           2.151735  \n",
       "2         -0.125332         -0.335141          -0.464741  \n",
       "3          7.978832         -0.335141           2.151735  \n",
       "4         -0.125332          2.983815           2.151735  \n",
       "\n",
       "[5 rows x 22 columns]"
      ]
     },
     "execution_count": 15,
     "metadata": {},
     "output_type": "execute_result"
    }
   ],
   "source": [
    "\n",
    "scaler = StandardScaler()\n",
    "data.drop(['link','Price'], axis=1, inplace=True)\n",
    "\n",
    "f_num = [f for f in data.columns if f not in f_cat]\n",
    "data[f_num] = scaler.fit_transform(data[f_num])\n",
    "\n",
    "data.head()"
   ]
  },
  {
   "cell_type": "code",
   "execution_count": 16,
   "metadata": {
    "collapsed": false
   },
   "outputs": [
    {
     "name": "stdout",
     "output_type": "stream",
     "text": [
      "(4397, 22)\n",
      "(4397, 6)\n"
     ]
    }
   ],
   "source": [
    "print data.shape\n",
    "print dummy.shape"
   ]
  },
  {
   "cell_type": "code",
   "execution_count": 17,
   "metadata": {
    "collapsed": false
   },
   "outputs": [],
   "source": [
    "data = pd.merge(data, dummy, left_index=True, right_index=True)"
   ]
  },
  {
   "cell_type": "code",
   "execution_count": 18,
   "metadata": {
    "collapsed": false,
    "scrolled": true
   },
   "outputs": [
    {
     "name": "stdout",
     "output_type": "stream",
     "text": [
      "(4397, 28)\n"
     ]
    },
    {
     "data": {
      "text/html": [
       "<div>\n",
       "<table border=\"1\" class=\"dataframe\">\n",
       "  <thead>\n",
       "    <tr style=\"text-align: right;\">\n",
       "      <th></th>\n",
       "      <th>District</th>\n",
       "      <th>Tel</th>\n",
       "      <th>combined_bs</th>\n",
       "      <th>cooking_space</th>\n",
       "      <th>dist</th>\n",
       "      <th>floor</th>\n",
       "      <th>house_type</th>\n",
       "      <th>lat</th>\n",
       "      <th>living_space</th>\n",
       "      <th>lon</th>\n",
       "      <th>...</th>\n",
       "      <th>metro_time_non</th>\n",
       "      <th>total_floors_non</th>\n",
       "      <th>living_space_non</th>\n",
       "      <th>cooking_space_non</th>\n",
       "      <th>блочный</th>\n",
       "      <th>кирпично-монолитный</th>\n",
       "      <th>кирпичный</th>\n",
       "      <th>монолитный</th>\n",
       "      <th>панельныйдом</th>\n",
       "      <th>сталинский</th>\n",
       "    </tr>\n",
       "  </thead>\n",
       "  <tbody>\n",
       "    <tr>\n",
       "      <th>0</th>\n",
       "      <td>-1.429785</td>\n",
       "      <td>-0.724671</td>\n",
       "      <td>-1.022689</td>\n",
       "      <td>-6.692589e-13</td>\n",
       "      <td>-1.373064</td>\n",
       "      <td>0.154645</td>\n",
       "      <td>Else</td>\n",
       "      <td>0.201502</td>\n",
       "      <td>-2.189742e-12</td>\n",
       "      <td>0.222387</td>\n",
       "      <td>...</td>\n",
       "      <td>-0.407056</td>\n",
       "      <td>-0.125332</td>\n",
       "      <td>2.983815</td>\n",
       "      <td>2.151735</td>\n",
       "      <td>0</td>\n",
       "      <td>0</td>\n",
       "      <td>0</td>\n",
       "      <td>0</td>\n",
       "      <td>0</td>\n",
       "      <td>0</td>\n",
       "    </tr>\n",
       "    <tr>\n",
       "      <th>1</th>\n",
       "      <td>-1.429785</td>\n",
       "      <td>1.379937</td>\n",
       "      <td>4.349786</td>\n",
       "      <td>-6.692589e-13</td>\n",
       "      <td>-1.297828</td>\n",
       "      <td>-0.352168</td>\n",
       "      <td>монолитный</td>\n",
       "      <td>0.274902</td>\n",
       "      <td>8.183860e+00</td>\n",
       "      <td>0.173308</td>\n",
       "      <td>...</td>\n",
       "      <td>-0.407056</td>\n",
       "      <td>-0.125332</td>\n",
       "      <td>-0.335141</td>\n",
       "      <td>2.151735</td>\n",
       "      <td>0</td>\n",
       "      <td>0</td>\n",
       "      <td>0</td>\n",
       "      <td>1</td>\n",
       "      <td>0</td>\n",
       "      <td>0</td>\n",
       "    </tr>\n",
       "    <tr>\n",
       "      <th>2</th>\n",
       "      <td>-1.429785</td>\n",
       "      <td>1.379937</td>\n",
       "      <td>-1.022689</td>\n",
       "      <td>-2.941087e-02</td>\n",
       "      <td>-1.015367</td>\n",
       "      <td>-0.352168</td>\n",
       "      <td>кирпичный</td>\n",
       "      <td>0.148029</td>\n",
       "      <td>1.347426e+00</td>\n",
       "      <td>0.778009</td>\n",
       "      <td>...</td>\n",
       "      <td>-0.407056</td>\n",
       "      <td>-0.125332</td>\n",
       "      <td>-0.335141</td>\n",
       "      <td>-0.464741</td>\n",
       "      <td>0</td>\n",
       "      <td>0</td>\n",
       "      <td>1</td>\n",
       "      <td>0</td>\n",
       "      <td>0</td>\n",
       "      <td>0</td>\n",
       "    </tr>\n",
       "    <tr>\n",
       "      <th>3</th>\n",
       "      <td>-1.429785</td>\n",
       "      <td>-0.724671</td>\n",
       "      <td>0.768136</td>\n",
       "      <td>-6.692589e-13</td>\n",
       "      <td>-1.074170</td>\n",
       "      <td>-0.690044</td>\n",
       "      <td>Else</td>\n",
       "      <td>0.443760</td>\n",
       "      <td>-3.422103e-01</td>\n",
       "      <td>0.724476</td>\n",
       "      <td>...</td>\n",
       "      <td>-0.407056</td>\n",
       "      <td>7.978832</td>\n",
       "      <td>-0.335141</td>\n",
       "      <td>2.151735</td>\n",
       "      <td>0</td>\n",
       "      <td>0</td>\n",
       "      <td>0</td>\n",
       "      <td>0</td>\n",
       "      <td>0</td>\n",
       "      <td>0</td>\n",
       "    </tr>\n",
       "    <tr>\n",
       "      <th>4</th>\n",
       "      <td>-1.429785</td>\n",
       "      <td>-0.724671</td>\n",
       "      <td>0.768136</td>\n",
       "      <td>-6.692589e-13</td>\n",
       "      <td>-1.070431</td>\n",
       "      <td>-0.858982</td>\n",
       "      <td>Else</td>\n",
       "      <td>0.448772</td>\n",
       "      <td>-2.189742e-12</td>\n",
       "      <td>0.726001</td>\n",
       "      <td>...</td>\n",
       "      <td>-0.407056</td>\n",
       "      <td>-0.125332</td>\n",
       "      <td>2.983815</td>\n",
       "      <td>2.151735</td>\n",
       "      <td>0</td>\n",
       "      <td>0</td>\n",
       "      <td>0</td>\n",
       "      <td>0</td>\n",
       "      <td>0</td>\n",
       "      <td>0</td>\n",
       "    </tr>\n",
       "  </tbody>\n",
       "</table>\n",
       "<p>5 rows × 28 columns</p>\n",
       "</div>"
      ],
      "text/plain": [
       "   District       Tel  combined_bs  cooking_space      dist     floor  \\\n",
       "0 -1.429785 -0.724671    -1.022689  -6.692589e-13 -1.373064  0.154645   \n",
       "1 -1.429785  1.379937     4.349786  -6.692589e-13 -1.297828 -0.352168   \n",
       "2 -1.429785  1.379937    -1.022689  -2.941087e-02 -1.015367 -0.352168   \n",
       "3 -1.429785 -0.724671     0.768136  -6.692589e-13 -1.074170 -0.690044   \n",
       "4 -1.429785 -0.724671     0.768136  -6.692589e-13 -1.070431 -0.858982   \n",
       "\n",
       "   house_type       lat  living_space       lon     ...     metro_time_non  \\\n",
       "0        Else  0.201502 -2.189742e-12  0.222387     ...          -0.407056   \n",
       "1  монолитный  0.274902  8.183860e+00  0.173308     ...          -0.407056   \n",
       "2   кирпичный  0.148029  1.347426e+00  0.778009     ...          -0.407056   \n",
       "3        Else  0.443760 -3.422103e-01  0.724476     ...          -0.407056   \n",
       "4        Else  0.448772 -2.189742e-12  0.726001     ...          -0.407056   \n",
       "\n",
       "   total_floors_non  living_space_non  cooking_space_non  блочный  \\\n",
       "0         -0.125332          2.983815           2.151735        0   \n",
       "1         -0.125332         -0.335141           2.151735        0   \n",
       "2         -0.125332         -0.335141          -0.464741        0   \n",
       "3          7.978832         -0.335141           2.151735        0   \n",
       "4         -0.125332          2.983815           2.151735        0   \n",
       "\n",
       "   кирпично-монолитный  кирпичный  монолитный  панельныйдом  сталинский  \n",
       "0                    0          0           0             0           0  \n",
       "1                    0          0           1             0           0  \n",
       "2                    0          1           0             0           0  \n",
       "3                    0          0           0             0           0  \n",
       "4                    0          0           0             0           0  \n",
       "\n",
       "[5 rows x 28 columns]"
      ]
     },
     "execution_count": 18,
     "metadata": {},
     "output_type": "execute_result"
    }
   ],
   "source": [
    "print data.shape\n",
    "data.head()"
   ]
  },
  {
   "cell_type": "code",
   "execution_count": 19,
   "metadata": {
    "collapsed": true
   },
   "outputs": [],
   "source": [
    "data.drop(f_cat, axis=1, inplace=True)\n"
   ]
  },
  {
   "cell_type": "code",
   "execution_count": 20,
   "metadata": {
    "collapsed": false
   },
   "outputs": [],
   "source": [
    "clf = LinearRegression()\n",
    "GS = GridSearchCV(clf, cv=5,param_grid={'fit_intercept':[True,False]}, verbose=0,scoring=make_scorer(score_func=mean_absolute_error, greater_is_better=False))\n",
    "                   #param_grid={\"C\": [1e0, 1e1, 1e2, 1e3],\n",
    "                    #           \"gamma\": np.logspace(-2, 2, 5)})"
   ]
  },
  {
   "cell_type": "code",
   "execution_count": 21,
   "metadata": {
    "collapsed": false
   },
   "outputs": [
    {
     "data": {
      "text/plain": [
       "GridSearchCV(cv=5, error_score='raise',\n",
       "       estimator=LinearRegression(copy_X=True, fit_intercept=True, n_jobs=1, normalize=False),\n",
       "       fit_params={}, iid=True, n_jobs=1,\n",
       "       param_grid={'fit_intercept': [True, False]},\n",
       "       pre_dispatch='2*n_jobs', refit=True,\n",
       "       scoring=make_scorer(mean_absolute_error, greater_is_better=False),\n",
       "       verbose=0)"
      ]
     },
     "execution_count": 21,
     "metadata": {},
     "output_type": "execute_result"
    }
   ],
   "source": [
    "GS.fit(data, y)"
   ]
  },
  {
   "cell_type": "code",
   "execution_count": 22,
   "metadata": {
    "collapsed": false
   },
   "outputs": [
    {
     "data": {
      "text/plain": [
       "[mean: -5649984.32244, std: 1773474.39683, params: {'fit_intercept': True},\n",
       " mean: -8227444.48453, std: 2558452.70650, params: {'fit_intercept': False}]"
      ]
     },
     "execution_count": 22,
     "metadata": {},
     "output_type": "execute_result"
    }
   ],
   "source": [
    "GS.grid_scores_"
   ]
  },
  {
   "cell_type": "code",
   "execution_count": 23,
   "metadata": {
    "collapsed": false
   },
   "outputs": [
    {
     "name": "stdout",
     "output_type": "stream",
     "text": [
      "2376.969567\n"
     ]
    }
   ],
   "source": [
    "score = np.sqrt(GS.best_score_*(-1.0))\n",
    "print score"
   ]
  },
  {
   "cell_type": "code",
   "execution_count": 24,
   "metadata": {
    "collapsed": true
   },
   "outputs": [],
   "source": [
    "clf = Ridge()\n",
    "\n",
    "params={\"alpha\": np.logspace(-5, 5, 50)}\n",
    "            \n",
    "GS = GridSearchCV(clf, cv=5,param_grid=params, \\\n",
    "                  verbose=0,scoring=make_scorer(score_func=mean_absolute_error, greater_is_better=False),n_jobs=2)\n"
   ]
  },
  {
   "cell_type": "code",
   "execution_count": 25,
   "metadata": {
    "collapsed": false
   },
   "outputs": [
    {
     "data": {
      "text/plain": [
       "GridSearchCV(cv=5, error_score='raise',\n",
       "       estimator=Ridge(alpha=1.0, copy_X=True, fit_intercept=True, max_iter=None,\n",
       "   normalize=False, random_state=None, solver='auto', tol=0.001),\n",
       "       fit_params={}, iid=True, n_jobs=2,\n",
       "       param_grid={'alpha': array([  1.00000e-05,   1.59986e-05,   2.55955e-05,   4.09492e-05,\n",
       "         6.55129e-05,   1.04811e-04,   1.67683e-04,   2.68270e-04,\n",
       "         4.29193e-04,   6.86649e-04,   1.09854e-03,   1.75751e-03,\n",
       "         2.81177e-03,   4.49843e-03,   7.19686e-03,   1.15140e-02,\n",
       "         1....    9.54095e+03,   1.52642e+04,   2.44205e+04,   3.90694e+04,\n",
       "         6.25055e+04,   1.00000e+05])},\n",
       "       pre_dispatch='2*n_jobs', refit=True,\n",
       "       scoring=make_scorer(mean_absolute_error, greater_is_better=False),\n",
       "       verbose=0)"
      ]
     },
     "execution_count": 25,
     "metadata": {},
     "output_type": "execute_result"
    }
   ],
   "source": [
    "GS.fit(data, y)"
   ]
  },
  {
   "cell_type": "code",
   "execution_count": 26,
   "metadata": {
    "collapsed": false
   },
   "outputs": [
    {
     "data": {
      "text/plain": [
       "{'alpha': 9540.9547634999635}"
      ]
     },
     "execution_count": 26,
     "metadata": {},
     "output_type": "execute_result"
    }
   ],
   "source": [
    "GS.best_params_"
   ]
  },
  {
   "cell_type": "code",
   "execution_count": 27,
   "metadata": {
    "collapsed": false
   },
   "outputs": [
    {
     "data": {
      "text/plain": [
       "-4579352.472349102"
      ]
     },
     "execution_count": 27,
     "metadata": {},
     "output_type": "execute_result"
    }
   ],
   "source": [
    "GS.best_score_"
   ]
  },
  {
   "cell_type": "code",
   "execution_count": 28,
   "metadata": {
    "collapsed": true
   },
   "outputs": [],
   "source": [
    "score = np.sqrt(GS.best_score_*(-1.0))"
   ]
  },
  {
   "cell_type": "code",
   "execution_count": 29,
   "metadata": {
    "collapsed": false
   },
   "outputs": [
    {
     "data": {
      "text/plain": [
       "2139.9421656552081"
      ]
     },
     "execution_count": 29,
     "metadata": {},
     "output_type": "execute_result"
    }
   ],
   "source": [
    "score"
   ]
  },
  {
   "cell_type": "markdown",
   "metadata": {},
   "source": [
    "## Random forest"
   ]
  },
  {
   "cell_type": "code",
   "execution_count": 31,
   "metadata": {
    "collapsed": true
   },
   "outputs": [],
   "source": [
    "from sklearn.ensemble import RandomForestRegressor"
   ]
  },
  {
   "cell_type": "code",
   "execution_count": 91,
   "metadata": {
    "collapsed": false
   },
   "outputs": [],
   "source": [
    "clf = RandomForestRegressor(n_estimators=100, random_state=9)\n",
    "\n",
    "params={\"max_features\": [1.0,0.9,0.8,0.7,0.6],\n",
    "       \"min_samples_leaf\": [1,2,3,4,5,10,20,30,40,50]}\n",
    "            \n",
    "GS = GridSearchCV(clf, cv=5,param_grid=params, \\\n",
    "                  verbose=0,scoring=make_scorer(score_func=mean_absolute_error, greater_is_better=False),n_jobs=1)\n"
   ]
  },
  {
   "cell_type": "code",
   "execution_count": 92,
   "metadata": {
    "collapsed": false
   },
   "outputs": [],
   "source": [
    "G_fit = GS.fit(data, y)"
   ]
  },
  {
   "cell_type": "code",
   "execution_count": 93,
   "metadata": {
    "collapsed": false
   },
   "outputs": [
    {
     "data": {
      "text/plain": [
       "{'max_features': 0.6, 'min_samples_leaf': 3}"
      ]
     },
     "execution_count": 93,
     "metadata": {},
     "output_type": "execute_result"
    }
   ],
   "source": [
    "GS.best_params_"
   ]
  },
  {
   "cell_type": "code",
   "execution_count": 94,
   "metadata": {
    "collapsed": false
   },
   "outputs": [
    {
     "data": {
      "text/plain": [
       "1751.7447247362022"
      ]
     },
     "execution_count": 94,
     "metadata": {},
     "output_type": "execute_result"
    }
   ],
   "source": [
    "np.sqrt(GS.best_score_*(-1.0))"
   ]
  },
  {
   "cell_type": "code",
   "execution_count": 36,
   "metadata": {
    "collapsed": false
   },
   "outputs": [],
   "source": [
    "clf = RandomForestRegressor(n_estimators=1000, random_state=9)\n",
    "\n",
    "params={\"max_features\": [1.0,0.9,0.8,0.7,0.6,0.5,0.4],\n",
    "       \"min_samples_leaf\": [1,2,3,4,5,10,20,30,40,50]}\n",
    "            \n",
    "GS = GridSearchCV(clf, cv=5,param_grid=params, \\\n",
    "                  verbose=0,scoring=make_scorer(score_func=mean_absolute_error, greater_is_better=False),n_jobs=-1)"
   ]
  },
  {
   "cell_type": "code",
   "execution_count": 37,
   "metadata": {
    "collapsed": true
   },
   "outputs": [],
   "source": [
    "G_fit = GS.fit(data, y)"
   ]
  },
  {
   "cell_type": "code",
   "execution_count": 38,
   "metadata": {
    "collapsed": false
   },
   "outputs": [
    {
     "data": {
      "text/plain": [
       "[mean: -3161291.74697, std: 2103708.59707, params: {'max_features': 1.0, 'min_samples_leaf': 1},\n",
       " mean: -3125999.28810, std: 2173887.10376, params: {'max_features': 1.0, 'min_samples_leaf': 2},\n",
       " mean: -3108385.56475, std: 2215749.90877, params: {'max_features': 1.0, 'min_samples_leaf': 3},\n",
       " mean: -3118967.60669, std: 2239439.49723, params: {'max_features': 1.0, 'min_samples_leaf': 4},\n",
       " mean: -3128977.58883, std: 2265012.66412, params: {'max_features': 1.0, 'min_samples_leaf': 5},\n",
       " mean: -3153453.22268, std: 2362603.69047, params: {'max_features': 1.0, 'min_samples_leaf': 10},\n",
       " mean: -3238903.63083, std: 2413396.49078, params: {'max_features': 1.0, 'min_samples_leaf': 20},\n",
       " mean: -3486781.52324, std: 2434279.80618, params: {'max_features': 1.0, 'min_samples_leaf': 30},\n",
       " mean: -3642345.30916, std: 2507935.48117, params: {'max_features': 1.0, 'min_samples_leaf': 40},\n",
       " mean: -3690978.04450, std: 2540185.64266, params: {'max_features': 1.0, 'min_samples_leaf': 50},\n",
       " mean: -3143093.39768, std: 2105200.37162, params: {'max_features': 0.9, 'min_samples_leaf': 1},\n",
       " mean: -3107564.38563, std: 2169324.59429, params: {'max_features': 0.9, 'min_samples_leaf': 2},\n",
       " mean: -3099271.95397, std: 2218539.48424, params: {'max_features': 0.9, 'min_samples_leaf': 3},\n",
       " mean: -3102660.89948, std: 2253846.93096, params: {'max_features': 0.9, 'min_samples_leaf': 4},\n",
       " mean: -3112649.18496, std: 2272750.65825, params: {'max_features': 0.9, 'min_samples_leaf': 5},\n",
       " mean: -3140693.43486, std: 2381954.77741, params: {'max_features': 0.9, 'min_samples_leaf': 10},\n",
       " mean: -3263738.24815, std: 2429850.25526, params: {'max_features': 0.9, 'min_samples_leaf': 20},\n",
       " mean: -3486046.46825, std: 2459697.81026, params: {'max_features': 0.9, 'min_samples_leaf': 30},\n",
       " mean: -3616639.13248, std: 2533544.44690, params: {'max_features': 0.9, 'min_samples_leaf': 40},\n",
       " mean: -3653040.63786, std: 2562759.30720, params: {'max_features': 0.9, 'min_samples_leaf': 50},\n",
       " mean: -3126814.34559, std: 2110001.89649, params: {'max_features': 0.8, 'min_samples_leaf': 1},\n",
       " mean: -3090481.21173, std: 2177485.31461, params: {'max_features': 0.8, 'min_samples_leaf': 2},\n",
       " mean: -3081173.16402, std: 2215321.62194, params: {'max_features': 0.8, 'min_samples_leaf': 3},\n",
       " mean: -3087209.93503, std: 2252756.43921, params: {'max_features': 0.8, 'min_samples_leaf': 4},\n",
       " mean: -3102788.83861, std: 2280571.61478, params: {'max_features': 0.8, 'min_samples_leaf': 5},\n",
       " mean: -3142665.09730, std: 2387149.29516, params: {'max_features': 0.8, 'min_samples_leaf': 10},\n",
       " mean: -3285822.62760, std: 2451348.43706, params: {'max_features': 0.8, 'min_samples_leaf': 20},\n",
       " mean: -3478946.17217, std: 2481664.69432, params: {'max_features': 0.8, 'min_samples_leaf': 30},\n",
       " mean: -3598371.97547, std: 2556812.74793, params: {'max_features': 0.8, 'min_samples_leaf': 40},\n",
       " mean: -3639694.66216, std: 2595497.42764, params: {'max_features': 0.8, 'min_samples_leaf': 50},\n",
       " mean: -3129694.04613, std: 2125126.44280, params: {'max_features': 0.7, 'min_samples_leaf': 1},\n",
       " mean: -3081218.07391, std: 2185693.16226, params: {'max_features': 0.7, 'min_samples_leaf': 2},\n",
       " mean: -3072741.95923, std: 2232384.66159, params: {'max_features': 0.7, 'min_samples_leaf': 3},\n",
       " mean: -3074527.31256, std: 2257890.15344, params: {'max_features': 0.7, 'min_samples_leaf': 4},\n",
       " mean: -3093974.07074, std: 2298072.14164, params: {'max_features': 0.7, 'min_samples_leaf': 5},\n",
       " mean: -3138141.87427, std: 2407277.36171, params: {'max_features': 0.7, 'min_samples_leaf': 10},\n",
       " mean: -3296215.93618, std: 2463237.11623, params: {'max_features': 0.7, 'min_samples_leaf': 20},\n",
       " mean: -3485673.38726, std: 2505356.83860, params: {'max_features': 0.7, 'min_samples_leaf': 30},\n",
       " mean: -3596674.37822, std: 2571224.35124, params: {'max_features': 0.7, 'min_samples_leaf': 40},\n",
       " mean: -3637967.02380, std: 2622554.56053, params: {'max_features': 0.7, 'min_samples_leaf': 50},\n",
       " mean: -3124643.13369, std: 2139892.06986, params: {'max_features': 0.6, 'min_samples_leaf': 1},\n",
       " mean: -3084384.11392, std: 2198282.76266, params: {'max_features': 0.6, 'min_samples_leaf': 2},\n",
       " mean: -3069592.78350, std: 2238970.29691, params: {'max_features': 0.6, 'min_samples_leaf': 3},\n",
       " mean: -3085327.58516, std: 2277515.47815, params: {'max_features': 0.6, 'min_samples_leaf': 4},\n",
       " mean: -3094301.84741, std: 2319206.07456, params: {'max_features': 0.6, 'min_samples_leaf': 5},\n",
       " mean: -3164773.54320, std: 2430228.81278, params: {'max_features': 0.6, 'min_samples_leaf': 10},\n",
       " mean: -3331637.92688, std: 2506741.29570, params: {'max_features': 0.6, 'min_samples_leaf': 20},\n",
       " mean: -3507448.83990, std: 2555554.38390, params: {'max_features': 0.6, 'min_samples_leaf': 30},\n",
       " mean: -3596540.26543, std: 2605319.86196, params: {'max_features': 0.6, 'min_samples_leaf': 40},\n",
       " mean: -3639325.70277, std: 2662208.00259, params: {'max_features': 0.6, 'min_samples_leaf': 50},\n",
       " mean: -3119818.52515, std: 2140362.46454, params: {'max_features': 0.5, 'min_samples_leaf': 1},\n",
       " mean: -3074475.20802, std: 2217977.06601, params: {'max_features': 0.5, 'min_samples_leaf': 2},\n",
       " mean: -3073360.11231, std: 2258100.46410, params: {'max_features': 0.5, 'min_samples_leaf': 3},\n",
       " mean: -3088774.37846, std: 2301455.62539, params: {'max_features': 0.5, 'min_samples_leaf': 4},\n",
       " mean: -3103063.14939, std: 2328608.29866, params: {'max_features': 0.5, 'min_samples_leaf': 5},\n",
       " mean: -3187331.03113, std: 2447600.52994, params: {'max_features': 0.5, 'min_samples_leaf': 10},\n",
       " mean: -3357084.75966, std: 2543585.82709, params: {'max_features': 0.5, 'min_samples_leaf': 20},\n",
       " mean: -3509434.63469, std: 2578445.20390, params: {'max_features': 0.5, 'min_samples_leaf': 30},\n",
       " mean: -3602909.10396, std: 2635274.88519, params: {'max_features': 0.5, 'min_samples_leaf': 40},\n",
       " mean: -3640802.55186, std: 2687985.19939, params: {'max_features': 0.5, 'min_samples_leaf': 50},\n",
       " mean: -3125297.96800, std: 2196292.65780, params: {'max_features': 0.4, 'min_samples_leaf': 1},\n",
       " mean: -3083750.74620, std: 2249631.71272, params: {'max_features': 0.4, 'min_samples_leaf': 2},\n",
       " mean: -3096397.17566, std: 2292889.15783, params: {'max_features': 0.4, 'min_samples_leaf': 3},\n",
       " mean: -3096942.36965, std: 2334580.90500, params: {'max_features': 0.4, 'min_samples_leaf': 4},\n",
       " mean: -3123478.99140, std: 2376593.74710, params: {'max_features': 0.4, 'min_samples_leaf': 5},\n",
       " mean: -3213550.63413, std: 2494065.84360, params: {'max_features': 0.4, 'min_samples_leaf': 10},\n",
       " mean: -3396908.84548, std: 2578041.95007, params: {'max_features': 0.4, 'min_samples_leaf': 20},\n",
       " mean: -3528991.09141, std: 2632711.41295, params: {'max_features': 0.4, 'min_samples_leaf': 30},\n",
       " mean: -3615242.05557, std: 2685346.54066, params: {'max_features': 0.4, 'min_samples_leaf': 40},\n",
       " mean: -3652010.21715, std: 2733974.84801, params: {'max_features': 0.4, 'min_samples_leaf': 50}]"
      ]
     },
     "execution_count": 38,
     "metadata": {},
     "output_type": "execute_result"
    }
   ],
   "source": [
    "GS.grid_scores_"
   ]
  },
  {
   "cell_type": "code",
   "execution_count": 39,
   "metadata": {
    "collapsed": false
   },
   "outputs": [
    {
     "data": {
      "text/plain": [
       "{'max_features': 0.6, 'min_samples_leaf': 3}"
      ]
     },
     "execution_count": 39,
     "metadata": {},
     "output_type": "execute_result"
    }
   ],
   "source": [
    "GS.best_params_"
   ]
  },
  {
   "cell_type": "code",
   "execution_count": 40,
   "metadata": {
    "collapsed": true
   },
   "outputs": [],
   "source": [
    "clf = RandomForestRegressor(n_estimators=10000, random_state=9)\n",
    "\n",
    "params={\"max_features\": [0.6],\n",
    "       \"min_samples_leaf\": [3]}\n",
    "            \n",
    "GS = GridSearchCV(clf, cv=5,param_grid=params, \\\n",
    "                  verbose=0,scoring=make_scorer(score_func=mean_absolute_error, greater_is_better=False),n_jobs=-1)"
   ]
  },
  {
   "cell_type": "code",
   "execution_count": 41,
   "metadata": {
    "collapsed": true
   },
   "outputs": [],
   "source": [
    "G_fit = GS.fit(data, y)"
   ]
  },
  {
   "cell_type": "code",
   "execution_count": 42,
   "metadata": {
    "collapsed": false,
    "scrolled": true
   },
   "outputs": [
    {
     "data": {
      "text/plain": [
       "[mean: -3077370.98164, std: 2257628.88262, params: {'max_features': 0.6, 'min_samples_leaf': 3}]"
      ]
     },
     "execution_count": 42,
     "metadata": {},
     "output_type": "execute_result"
    }
   ],
   "source": [
    "GS.grid_scores_"
   ]
  },
  {
   "cell_type": "markdown",
   "metadata": {},
   "source": [
    "### Итоговый rmse для случайного леса на кросс валидации"
   ]
  },
  {
   "cell_type": "code",
   "execution_count": 43,
   "metadata": {
    "collapsed": false
   },
   "outputs": [
    {
     "data": {
      "text/plain": [
       "1754.2437064563649"
      ]
     },
     "execution_count": 43,
     "metadata": {},
     "output_type": "execute_result"
    }
   ],
   "source": [
    "np.sqrt(GS.best_score_*(-1.0))"
   ]
  },
  {
   "cell_type": "code",
   "execution_count": null,
   "metadata": {
    "collapsed": true
   },
   "outputs": [],
   "source": []
  }
 ],
 "metadata": {
  "anaconda-cloud": {},
  "kernelspec": {
   "display_name": "Python [conda root]",
   "language": "python",
   "name": "conda-root-py"
  },
  "language_info": {
   "codemirror_mode": {
    "name": "ipython",
    "version": 2
   },
   "file_extension": ".py",
   "mimetype": "text/x-python",
   "name": "python",
   "nbconvert_exporter": "python",
   "pygments_lexer": "ipython2",
   "version": "2.7.12"
  }
 },
 "nbformat": 4,
 "nbformat_minor": 1
}
